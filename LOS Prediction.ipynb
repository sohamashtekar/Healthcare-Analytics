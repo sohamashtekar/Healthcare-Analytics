{
 "cells": [
  {
   "cell_type": "code",
   "execution_count": 1,
   "metadata": {},
   "outputs": [],
   "source": [
    "import pandas as pd\n",
    "import numpy as np\n",
    "import matplotlib.pyplot as plt\n",
    "from matplotlib.pyplot import figure"
   ]
  },
  {
   "cell_type": "code",
   "execution_count": 2,
   "metadata": {},
   "outputs": [],
   "source": [
    "#Loading the dataset\n",
    "mimic = pd.read_csv('MIMIC III.csv')"
   ]
  },
  {
   "cell_type": "code",
   "execution_count": 3,
   "metadata": {},
   "outputs": [
    {
     "name": "stdout",
     "output_type": "stream",
     "text": [
      "<class 'pandas.core.frame.DataFrame'>\n",
      "RangeIndex: 2295059 entries, 0 to 2295058\n",
      "Data columns (total 14 columns):\n",
      "HADM_ID               int64\n",
      "SUBJECT_ID            int64\n",
      "AdmitTime             object\n",
      "DischTime             object\n",
      "admission_type        object\n",
      "admission_location    object\n",
      "insurance             object\n",
      "marital_status        object\n",
      "gender                object\n",
      "los                   float64\n",
      "procedures_icd        int64\n",
      "procedures_seq        int64\n",
      "diagnoses_icd         object\n",
      "diagnoses_seq         int64\n",
      "dtypes: float64(1), int64(5), object(8)\n",
      "memory usage: 245.1+ MB\n"
     ]
    }
   ],
   "source": [
    "#Understanding the variables and it's types\n",
    "mimic.info()"
   ]
  },
  {
   "cell_type": "code",
   "execution_count": 4,
   "metadata": {},
   "outputs": [],
   "source": [
    "#To better identify difference between ICU lOS and Total Hospital LOS\n",
    "mimic = mimic.rename(columns = {\"los\":\"ICU LOS\"})"
   ]
  },
  {
   "cell_type": "code",
   "execution_count": 5,
   "metadata": {},
   "outputs": [],
   "source": [
    "# As we can see the variable type is not correct for AdmitTime and DischargeTime\n",
    "mimic['AdmitTime'] = pd.to_datetime(mimic['AdmitTime'])\n",
    "mimic['DischTime'] = pd.to_datetime(mimic['DischTime'])\n",
    "#Here we corrected the formats for those two columns"
   ]
  },
  {
   "cell_type": "code",
   "execution_count": 6,
   "metadata": {},
   "outputs": [
    {
     "name": "stdout",
     "output_type": "stream",
     "text": [
      "<class 'pandas.core.frame.DataFrame'>\n",
      "RangeIndex: 2295059 entries, 0 to 2295058\n",
      "Data columns (total 14 columns):\n",
      "HADM_ID               int64\n",
      "SUBJECT_ID            int64\n",
      "AdmitTime             datetime64[ns]\n",
      "DischTime             datetime64[ns]\n",
      "admission_type        object\n",
      "admission_location    object\n",
      "insurance             object\n",
      "marital_status        object\n",
      "gender                object\n",
      "ICU LOS               float64\n",
      "procedures_icd        int64\n",
      "procedures_seq        int64\n",
      "diagnoses_icd         object\n",
      "diagnoses_seq         int64\n",
      "dtypes: datetime64[ns](2), float64(1), int64(5), object(6)\n",
      "memory usage: 245.1+ MB\n"
     ]
    }
   ],
   "source": [
    "#Information about dataset after correction\n",
    "mimic.info()"
   ]
  },
  {
   "cell_type": "code",
   "execution_count": 7,
   "metadata": {},
   "outputs": [],
   "source": [
    "#Calculating the length of stay in days from the Discharge time and Admit time\n",
    "mimic['HospitalLengthOfStay']= mimic['DischTime'] - mimic['AdmitTime']"
   ]
  },
  {
   "cell_type": "code",
   "execution_count": 8,
   "metadata": {
    "scrolled": true
   },
   "outputs": [
    {
     "name": "stdout",
     "output_type": "stream",
     "text": [
      "Min LOS 0 days 00:00:00 \n",
      "Max LOS 295 days 00:00:00\n"
     ]
    }
   ],
   "source": [
    "#Min max values in the newly calculated Length of stay values. \n",
    "print(\"Min LOS\",mimic['HospitalLengthOfStay'].min(),\"\\nMax LOS\",mimic['HospitalLengthOfStay'].max())"
   ]
  },
  {
   "cell_type": "code",
   "execution_count": 9,
   "metadata": {},
   "outputs": [],
   "source": [
    "#The calculated Hospital Length of stay column is a time series format and we have to convert it to a integer format. \n",
    "mimic['HospitalLengthOfStay'] = mimic['HospitalLengthOfStay'].dt.days"
   ]
  },
  {
   "cell_type": "code",
   "execution_count": 10,
   "metadata": {},
   "outputs": [
    {
     "data": {
      "text/plain": [
       "<matplotlib.axes._subplots.AxesSubplot at 0x1905db95f48>"
      ]
     },
     "execution_count": 10,
     "metadata": {},
     "output_type": "execute_result"
    },
    {
     "data": {
      "image/png": "[encoded data removed]",
      "text/plain": [
       "<Figure size 432x288 with 1 Axes>"
      ]
     },
     "metadata": {
      "needs_background": "light"
     },
     "output_type": "display_data"
    }
   ],
   "source": [
    "#Plotting the distribution of Hospital Length of Stay\n",
    "import seaborn as sn\n",
    "import matplotlib as plt\n",
    "sn.distplot(mimic['HospitalLengthOfStay'])"
   ]
  },
  {
   "cell_type": "code",
   "execution_count": 11,
   "metadata": {},
   "outputs": [
    {
     "data": {
      "text/plain": [
       "HADM_ID                 1942478\n",
       "SUBJECT_ID              1942478\n",
       "AdmitTime               1942478\n",
       "DischTime               1942478\n",
       "admission_type          1942478\n",
       "admission_location      1942478\n",
       "insurance               1942478\n",
       "marital_status          1789895\n",
       "gender                  1942478\n",
       "ICU LOS                 1942375\n",
       "procedures_icd          1942478\n",
       "procedures_seq          1942478\n",
       "diagnoses_icd           1942478\n",
       "diagnoses_seq           1942478\n",
       "HospitalLengthOfStay    1942478\n",
       "dtype: int64"
      ]
     },
     "execution_count": 11,
     "metadata": {},
     "output_type": "execute_result"
    }
   ],
   "source": [
    "#From the graph we can see that the graph is skewed to the right and creating models on highly skewed data may reduces the accuracy. \n",
    "#Counting number of rows where the Length of stay is less than 40\n",
    "mimic[mimic.HospitalLengthOfStay < 40].count()\n",
    "#As we can see there's enough data to make a accurate model considering lENGTH OF STAY less than 40 days. "
   ]
  },
  {
   "cell_type": "code",
   "execution_count": 12,
   "metadata": {},
   "outputs": [],
   "source": [
    "#Creating other dataframe where LOS is below 40 days. \n",
    "mimic_40 = mimic[mimic.HospitalLengthOfStay < 40]"
   ]
  },
  {
   "cell_type": "code",
   "execution_count": 15,
   "metadata": {},
   "outputs": [
    {
     "data": {
      "text/plain": [
       "27750"
      ]
     },
     "execution_count": 15,
     "metadata": {},
     "output_type": "execute_result"
    }
   ],
   "source": [
    "len(mimic_40['SUBJECT_ID'].unique().tolist())"
   ]
  },
  {
   "cell_type": "code",
   "execution_count": 13,
   "metadata": {},
   "outputs": [
    {
     "data": {
      "text/plain": [
       "<matplotlib.axes._subplots.AxesSubplot at 0x18403f87ec8>"
      ]
     },
     "execution_count": 13,
     "metadata": {},
     "output_type": "execute_result"
    },
    {
     "data": {
      "image/png": "[encoded data removed]",
      "text/plain": [
       "<Figure size 432x288 with 1 Axes>"
      ]
     },
     "metadata": {
      "needs_background": "light"
     },
     "output_type": "display_data"
    }
   ],
   "source": [
    "#Dristribution graph for our sample dataset. \n",
    "sn.distplot(mimic_40['HospitalLengthOfStay'])"
   ]
  },
  {
   "cell_type": "code",
   "execution_count": 14,
   "metadata": {},
   "outputs": [
    {
     "data": {
      "text/plain": [
       "<matplotlib.axes._subplots.AxesSubplot at 0x1840233fac8>"
      ]
     },
     "execution_count": 14,
     "metadata": {},
     "output_type": "execute_result"
    },
    {
     "data": {
      "image/png": "[encoded data removed]",
      "text/plain": [
       "<Figure size 842.4x595.44 with 1 Axes>"
      ]
     },
     "metadata": {},
     "output_type": "display_data"
    }
   ],
   "source": [
    "# Liniarity graph between the Hospital LOS and ICU LOS.\n",
    "sn.set(rc={'figure.figsize':(11.7,8.27)})\n",
    "sn.pointplot(x = mimic_40['HospitalLengthOfStay'], y = mimic_40['ICU LOS'])"
   ]
  },
  {
   "cell_type": "code",
   "execution_count": 15,
   "metadata": {},
   "outputs": [
    {
     "name": "stdout",
     "output_type": "stream",
     "text": [
      "Unique values in admission_type:-  ['EMERGENCY' 'NEWBORN' 'ELECTIVE' 'URGENT']\n",
      "\n",
      "Unique values in admission_location:-  ['EMERGENCY ROOM ADMIT' 'CLINIC REFERRAL/PREMATURE'\n",
      " 'TRANSFER FROM HOSP/EXTRAM' 'PHYS REFERRAL/NORMAL DELI'\n",
      " 'HMO REFERRAL/SICK' '** INFO NOT AVAILABLE **'\n",
      " 'TRANSFER FROM SKILLED NUR' 'TRANSFER FROM OTHER HEALT'\n",
      " 'TRSF WITHIN THIS FACILITY']\n",
      "\n",
      "Unique values in insurance:-  ['Medicare' 'Private' 'Medicaid' 'Government' 'Self Pay']\n",
      "\n",
      "Unique values in marital_status:-  ['MARRIED' nan 'DIVORCED' 'SINGLE' 'WIDOWED' 'UNKNOWN (DEFAULT)'\n",
      " 'SEPARATED' 'LIFE PARTNER']\n",
      "\n",
      "Unique values in gender:-  ['M' 'F']\n",
      "\n",
      "Unique values in diagnoses_icd:-  ['00845' '5780' '5990' ... '6963' '80710' 'V331']\n"
     ]
    }
   ],
   "source": [
    "# Unique values in each column \n",
    "print(\"Unique values in admission_type:- \",mimic_40.admission_type.unique())\n",
    "print(\"\\nUnique values in admission_location:- \",mimic_40.admission_location.unique())\n",
    "print(\"\\nUnique values in insurance:- \",mimic_40.insurance.unique())\n",
    "print(\"\\nUnique values in marital_status:- \",mimic_40.marital_status.unique())\n",
    "print(\"\\nUnique values in gender:- \",mimic_40.gender.unique())\n",
    "print(\"\\nUnique values in diagnoses_icd:- \",mimic_40.diagnoses_icd.unique())"
   ]
  },
  {
   "cell_type": "code",
   "execution_count": 16,
   "metadata": {},
   "outputs": [],
   "source": [
    "#Admission type columns looks good in terms of catagories. \n",
    "#Admission Location column we need to improve in terms of catagories, which are not clearly understandable. \n",
    "#Insurance column also needs some cleanup\n",
    "#Mrital column has some catagories which seems repetitive and also has some null values. \n",
    "#Gender column in perfect and do not have null values\n",
    "#Diagnoses_icd has some neumeric values and some are text and neumeric so we need to fix that. "
   ]
  },
  {
   "cell_type": "code",
   "execution_count": 17,
   "metadata": {},
   "outputs": [
    {
     "name": "stdout",
     "output_type": "stream",
     "text": [
      "248012\n"
     ]
    }
   ],
   "source": [
    "#Checking how many icd9 codes are not completely neumeric (icd 9 codes are integer values unlike icd 10)\n",
    "a = 0\n",
    "for i in mimic_40.diagnoses_icd:\n",
    "    if(i.isdigit() != True):\n",
    "        a = a+1\n",
    "        \n",
    "print(a)"
   ]
  },
  {
   "cell_type": "code",
   "execution_count": 18,
   "metadata": {},
   "outputs": [
    {
     "name": "stderr",
     "output_type": "stream",
     "text": [
      "C:\\Users\\soham\\Anaconda3\\envs\\tn1\\lib\\site-packages\\ipykernel_launcher.py:9: SettingWithCopyWarning: \n",
      "A value is trying to be set on a copy of a slice from a DataFrame.\n",
      "Try using .loc[row_indexer,col_indexer] = value instead\n",
      "\n",
      "See the caveats in the documentation: http://pandas.pydata.org/pandas-docs/stable/user_guide/indexing.html#returning-a-view-versus-a-copy\n",
      "  if __name__ == '__main__':\n"
     ]
    }
   ],
   "source": [
    "#Extracting neumeric values from the diagnoses_icd and remove the characters. The output will be  a neumeric string. \n",
    "num = []\n",
    "X = ''\n",
    "a = 0\n",
    "import re\n",
    "for i in mimic_40.diagnoses_icd:\n",
    "    num.append(re.sub('[^0-9]','', i))\n",
    "\n",
    "mimic_40['diagnoses_icd'] = num"
   ]
  },
  {
   "cell_type": "code",
   "execution_count": 19,
   "metadata": {},
   "outputs": [
    {
     "name": "stderr",
     "output_type": "stream",
     "text": [
      "C:\\Users\\soham\\Anaconda3\\envs\\tn1\\lib\\site-packages\\ipykernel_launcher.py:2: SettingWithCopyWarning: \n",
      "A value is trying to be set on a copy of a slice from a DataFrame.\n",
      "Try using .loc[row_indexer,col_indexer] = value instead\n",
      "\n",
      "See the caveats in the documentation: http://pandas.pydata.org/pandas-docs/stable/user_guide/indexing.html#returning-a-view-versus-a-copy\n",
      "  \n"
     ]
    }
   ],
   "source": [
    "# Now we will convert string of diagnoses icd codes to just numbers. \n",
    "mimic_40['diagnoses_icd'] = pd.to_numeric(mimic_40['diagnoses_icd'])"
   ]
  },
  {
   "cell_type": "code",
   "execution_count": 20,
   "metadata": {},
   "outputs": [
    {
     "name": "stderr",
     "output_type": "stream",
     "text": [
      "C:\\Users\\soham\\Anaconda3\\envs\\tn1\\lib\\site-packages\\pandas\\core\\generic.py:6287: SettingWithCopyWarning: \n",
      "A value is trying to be set on a copy of a slice from a DataFrame\n",
      "\n",
      "See the caveats in the documentation: http://pandas.pydata.org/pandas-docs/stable/user_guide/indexing.html#returning-a-view-versus-a-copy\n",
      "  self._update_inplace(new_data)\n",
      "C:\\Users\\soham\\Anaconda3\\envs\\tn1\\lib\\site-packages\\ipykernel_launcher.py:4: SettingWithCopyWarning: \n",
      "A value is trying to be set on a copy of a slice from a DataFrame.\n",
      "Try using .loc[row_indexer,col_indexer] = value instead\n",
      "\n",
      "See the caveats in the documentation: http://pandas.pydata.org/pandas-docs/stable/user_guide/indexing.html#returning-a-view-versus-a-copy\n",
      "  after removing the cwd from sys.path.\n"
     ]
    }
   ],
   "source": [
    "# The null values in marital status says that we may not know the status, which means it is unknown to us. \n",
    "mimic_40['marital_status'].fillna('UNKNOWN', inplace=True)\n",
    "# Here we replaced the null values to Unknown. \n",
    "mimic_40['marital_status'] = mimic_40['marital_status'].replace({'UNKNOWN (DEFAULT)':'UNKNOWN'})\n",
    "# Further theres a Unknown (Deafult) catagory which we can combine with just Unknown, and that is what we did here."
   ]
  },
  {
   "cell_type": "code",
   "execution_count": 21,
   "metadata": {},
   "outputs": [
    {
     "name": "stdout",
     "output_type": "stream",
     "text": [
      "\n",
      "Unique values in marital_status:-  ['MARRIED' 'UNKNOWN' 'DIVORCED' 'SINGLE' 'WIDOWED' 'SEPARATED'\n",
      " 'LIFE PARTNER']\n"
     ]
    }
   ],
   "source": [
    "#Now we will check unique values in the marital_status after correcting maritial status column\n",
    "print(\"\\nUnique values in marital_status:- \",mimic_40.marital_status.unique())"
   ]
  },
  {
   "cell_type": "code",
   "execution_count": 22,
   "metadata": {},
   "outputs": [
    {
     "data": {
      "text/plain": [
       "Medicare      1146247\n",
       "Private        571200\n",
       "Medicaid       164511\n",
       "Government      47999\n",
       "Self Pay        12521\n",
       "Name: insurance, dtype: int64"
      ]
     },
     "execution_count": 22,
     "metadata": {},
     "output_type": "execute_result"
    }
   ],
   "source": [
    "#Counting unique values in insurance column\n",
    "mimic_40['insurance'].value_counts()"
   ]
  },
  {
   "cell_type": "code",
   "execution_count": 23,
   "metadata": {},
   "outputs": [
    {
     "data": {
      "text/plain": [
       "EMERGENCY ROOM ADMIT         777136\n",
       "CLINIC REFERRAL/PREMATURE    427864\n",
       "TRANSFER FROM HOSP/EXTRAM    402870\n",
       "PHYS REFERRAL/NORMAL DELI    316933\n",
       "TRANSFER FROM SKILLED NUR      9628\n",
       "TRANSFER FROM OTHER HEALT      5577\n",
       "** INFO NOT AVAILABLE **       1649\n",
       "HMO REFERRAL/SICK               785\n",
       "TRSF WITHIN THIS FACILITY        36\n",
       "Name: admission_location, dtype: int64"
      ]
     },
     "execution_count": 23,
     "metadata": {},
     "output_type": "execute_result"
    }
   ],
   "source": [
    "#Counting unique values in admission_location column\n",
    "mimic_40['admission_location'].value_counts()"
   ]
  },
  {
   "cell_type": "code",
   "execution_count": 24,
   "metadata": {},
   "outputs": [
    {
     "name": "stdout",
     "output_type": "stream",
     "text": [
      "HADM_ID                 1942478\n",
      "SUBJECT_ID              1942478\n",
      "AdmitTime               1942478\n",
      "DischTime               1942478\n",
      "admission_type          1942478\n",
      "admission_location      1942478\n",
      "insurance               1942478\n",
      "marital_status          1942478\n",
      "gender                  1942478\n",
      "ICU LOS                 1942375\n",
      "procedures_icd          1942478\n",
      "procedures_seq          1942478\n",
      "diagnoses_icd           1942478\n",
      "diagnoses_seq           1942478\n",
      "HospitalLengthOfStay    1942478\n",
      "dtype: int64\n"
     ]
    }
   ],
   "source": [
    "#Count of values in each column\n",
    "print(mimic_40.count())\n",
    "#There are some null values in ICU LOS\n",
    "mimic_40 = mimic_40.dropna()"
   ]
  },
  {
   "cell_type": "code",
   "execution_count": 25,
   "metadata": {},
   "outputs": [],
   "source": [
    "Top_diagnoses = mimic_40['diagnoses_icd'].value_counts()"
   ]
  },
  {
   "cell_type": "code",
   "execution_count": 26,
   "metadata": {},
   "outputs": [
    {
     "data": {
      "text/plain": [
       "4019     53924\n",
       "41401    39436\n",
       "4280     39233\n",
       "42731    39096\n",
       "51881    28239\n",
       "25000    25037\n",
       "5849     24135\n",
       "2724     21933\n",
       "5990     21584\n",
       "2851     17694\n",
       "Name: diagnoses_icd, dtype: int64"
      ]
     },
     "execution_count": 26,
     "metadata": {},
     "output_type": "execute_result"
    }
   ],
   "source": [
    "Top_diagnoses.head(10)"
   ]
  },
  {
   "cell_type": "code",
   "execution_count": 27,
   "metadata": {},
   "outputs": [],
   "source": [
    "mimic_40.to_csv('Mimic_cleaned.csv', index=False)"
   ]
  },
  {
   "cell_type": "code",
   "execution_count": 28,
   "metadata": {},
   "outputs": [],
   "source": [
    "#Creating features and target set for model creation. \n",
    "X = mimic_40.iloc[:,0:14]\n",
    "y = mimic_40.iloc[:,-1]"
   ]
  },
  {
   "cell_type": "code",
   "execution_count": 29,
   "metadata": {},
   "outputs": [
    {
     "data": {
      "text/html": [
       "<div>\n",
       "<style scoped>\n",
       "    .dataframe tbody tr th:only-of-type {\n",
       "        vertical-align: middle;\n",
       "    }\n",
       "\n",
       "    .dataframe tbody tr th {\n",
       "        vertical-align: top;\n",
       "    }\n",
       "\n",
       "    .dataframe thead th {\n",
       "        text-align: right;\n",
       "    }\n",
       "</style>\n",
       "<table border=\"1\" class=\"dataframe\">\n",
       "  <thead>\n",
       "    <tr style=\"text-align: right;\">\n",
       "      <th></th>\n",
       "      <th>HADM_ID</th>\n",
       "      <th>SUBJECT_ID</th>\n",
       "      <th>AdmitTime</th>\n",
       "      <th>DischTime</th>\n",
       "      <th>admission_type</th>\n",
       "      <th>admission_location</th>\n",
       "      <th>insurance</th>\n",
       "      <th>marital_status</th>\n",
       "      <th>gender</th>\n",
       "      <th>ICU LOS</th>\n",
       "      <th>procedures_icd</th>\n",
       "      <th>procedures_seq</th>\n",
       "      <th>diagnoses_icd</th>\n",
       "      <th>diagnoses_seq</th>\n",
       "    </tr>\n",
       "  </thead>\n",
       "  <tbody>\n",
       "    <tr>\n",
       "      <th>0</th>\n",
       "      <td>153771</td>\n",
       "      <td>256</td>\n",
       "      <td>2166-07-21</td>\n",
       "      <td>2166-07-28</td>\n",
       "      <td>EMERGENCY</td>\n",
       "      <td>EMERGENCY ROOM ADMIT</td>\n",
       "      <td>Medicare</td>\n",
       "      <td>MARRIED</td>\n",
       "      <td>M</td>\n",
       "      <td>3.5894</td>\n",
       "      <td>387</td>\n",
       "      <td>1</td>\n",
       "      <td>845</td>\n",
       "      <td>1</td>\n",
       "    </tr>\n",
       "    <tr>\n",
       "      <th>1</th>\n",
       "      <td>153771</td>\n",
       "      <td>256</td>\n",
       "      <td>2166-07-21</td>\n",
       "      <td>2166-07-28</td>\n",
       "      <td>EMERGENCY</td>\n",
       "      <td>EMERGENCY ROOM ADMIT</td>\n",
       "      <td>Medicare</td>\n",
       "      <td>MARRIED</td>\n",
       "      <td>M</td>\n",
       "      <td>3.5894</td>\n",
       "      <td>9904</td>\n",
       "      <td>2</td>\n",
       "      <td>845</td>\n",
       "      <td>1</td>\n",
       "    </tr>\n",
       "    <tr>\n",
       "      <th>2</th>\n",
       "      <td>153771</td>\n",
       "      <td>256</td>\n",
       "      <td>2166-07-21</td>\n",
       "      <td>2166-07-28</td>\n",
       "      <td>EMERGENCY</td>\n",
       "      <td>EMERGENCY ROOM ADMIT</td>\n",
       "      <td>Medicare</td>\n",
       "      <td>MARRIED</td>\n",
       "      <td>M</td>\n",
       "      <td>3.5894</td>\n",
       "      <td>387</td>\n",
       "      <td>1</td>\n",
       "      <td>5780</td>\n",
       "      <td>2</td>\n",
       "    </tr>\n",
       "    <tr>\n",
       "      <th>3</th>\n",
       "      <td>153771</td>\n",
       "      <td>256</td>\n",
       "      <td>2166-07-21</td>\n",
       "      <td>2166-07-28</td>\n",
       "      <td>EMERGENCY</td>\n",
       "      <td>EMERGENCY ROOM ADMIT</td>\n",
       "      <td>Medicare</td>\n",
       "      <td>MARRIED</td>\n",
       "      <td>M</td>\n",
       "      <td>3.5894</td>\n",
       "      <td>9904</td>\n",
       "      <td>2</td>\n",
       "      <td>5780</td>\n",
       "      <td>2</td>\n",
       "    </tr>\n",
       "    <tr>\n",
       "      <th>4</th>\n",
       "      <td>153771</td>\n",
       "      <td>256</td>\n",
       "      <td>2166-07-21</td>\n",
       "      <td>2166-07-28</td>\n",
       "      <td>EMERGENCY</td>\n",
       "      <td>EMERGENCY ROOM ADMIT</td>\n",
       "      <td>Medicare</td>\n",
       "      <td>MARRIED</td>\n",
       "      <td>M</td>\n",
       "      <td>3.5894</td>\n",
       "      <td>387</td>\n",
       "      <td>1</td>\n",
       "      <td>5990</td>\n",
       "      <td>3</td>\n",
       "    </tr>\n",
       "  </tbody>\n",
       "</table>\n",
       "</div>"
      ],
      "text/plain": [
       "   HADM_ID  SUBJECT_ID  AdmitTime  DischTime admission_type  \\\n",
       "0   153771         256 2166-07-21 2166-07-28      EMERGENCY   \n",
       "1   153771         256 2166-07-21 2166-07-28      EMERGENCY   \n",
       "2   153771         256 2166-07-21 2166-07-28      EMERGENCY   \n",
       "3   153771         256 2166-07-21 2166-07-28      EMERGENCY   \n",
       "4   153771         256 2166-07-21 2166-07-28      EMERGENCY   \n",
       "\n",
       "     admission_location insurance marital_status gender  ICU LOS  \\\n",
       "0  EMERGENCY ROOM ADMIT  Medicare        MARRIED      M   3.5894   \n",
       "1  EMERGENCY ROOM ADMIT  Medicare        MARRIED      M   3.5894   \n",
       "2  EMERGENCY ROOM ADMIT  Medicare        MARRIED      M   3.5894   \n",
       "3  EMERGENCY ROOM ADMIT  Medicare        MARRIED      M   3.5894   \n",
       "4  EMERGENCY ROOM ADMIT  Medicare        MARRIED      M   3.5894   \n",
       "\n",
       "   procedures_icd  procedures_seq  diagnoses_icd  diagnoses_seq  \n",
       "0             387               1            845              1  \n",
       "1            9904               2            845              1  \n",
       "2             387               1           5780              2  \n",
       "3            9904               2           5780              2  \n",
       "4             387               1           5990              3  "
      ]
     },
     "execution_count": 29,
     "metadata": {},
     "output_type": "execute_result"
    }
   ],
   "source": [
    "#From this output we can see that we have to drop some columns in order to prevent the information leak in the model. \n",
    "X.head()"
   ]
  },
  {
   "cell_type": "code",
   "execution_count": 30,
   "metadata": {},
   "outputs": [],
   "source": [
    "#Dropped Discharge time to prevent information leak and subject ID to prevent dependecies for prediction. \n",
    "X = X.drop(['DischTime','SUBJECT_ID'],axis= 1)"
   ]
  },
  {
   "cell_type": "code",
   "execution_count": 31,
   "metadata": {},
   "outputs": [],
   "source": [
    "#Exracting day and month values from the admit time, because the year is not usable as it is manupulated to anonynmize the data.\n",
    "X['AdmitDay'] = pd.DatetimeIndex(X['AdmitTime']).day\n",
    "X['AdmitMonth'] = pd.DatetimeIndex(X['AdmitTime']).month"
   ]
  },
  {
   "cell_type": "code",
   "execution_count": 32,
   "metadata": {},
   "outputs": [],
   "source": [
    "#After extracting the values we dont need the AdmitTime column so we will drop it\n",
    "X = X.drop(['AdmitTime'], axis = 1)"
   ]
  },
  {
   "cell_type": "code",
   "execution_count": 33,
   "metadata": {},
   "outputs": [
    {
     "data": {
      "text/html": [
       "<div>\n",
       "<style scoped>\n",
       "    .dataframe tbody tr th:only-of-type {\n",
       "        vertical-align: middle;\n",
       "    }\n",
       "\n",
       "    .dataframe tbody tr th {\n",
       "        vertical-align: top;\n",
       "    }\n",
       "\n",
       "    .dataframe thead th {\n",
       "        text-align: right;\n",
       "    }\n",
       "</style>\n",
       "<table border=\"1\" class=\"dataframe\">\n",
       "  <thead>\n",
       "    <tr style=\"text-align: right;\">\n",
       "      <th></th>\n",
       "      <th>HADM_ID</th>\n",
       "      <th>admission_type</th>\n",
       "      <th>admission_location</th>\n",
       "      <th>insurance</th>\n",
       "      <th>marital_status</th>\n",
       "      <th>gender</th>\n",
       "      <th>ICU LOS</th>\n",
       "      <th>procedures_icd</th>\n",
       "      <th>procedures_seq</th>\n",
       "      <th>diagnoses_icd</th>\n",
       "      <th>diagnoses_seq</th>\n",
       "      <th>AdmitDay</th>\n",
       "      <th>AdmitMonth</th>\n",
       "    </tr>\n",
       "  </thead>\n",
       "  <tbody>\n",
       "    <tr>\n",
       "      <th>0</th>\n",
       "      <td>153771</td>\n",
       "      <td>1</td>\n",
       "      <td>2</td>\n",
       "      <td>2</td>\n",
       "      <td>2</td>\n",
       "      <td>1</td>\n",
       "      <td>3.5894</td>\n",
       "      <td>387</td>\n",
       "      <td>1</td>\n",
       "      <td>845</td>\n",
       "      <td>1</td>\n",
       "      <td>21</td>\n",
       "      <td>7</td>\n",
       "    </tr>\n",
       "    <tr>\n",
       "      <th>1</th>\n",
       "      <td>153771</td>\n",
       "      <td>1</td>\n",
       "      <td>2</td>\n",
       "      <td>2</td>\n",
       "      <td>2</td>\n",
       "      <td>1</td>\n",
       "      <td>3.5894</td>\n",
       "      <td>9904</td>\n",
       "      <td>2</td>\n",
       "      <td>845</td>\n",
       "      <td>1</td>\n",
       "      <td>21</td>\n",
       "      <td>7</td>\n",
       "    </tr>\n",
       "    <tr>\n",
       "      <th>2</th>\n",
       "      <td>153771</td>\n",
       "      <td>1</td>\n",
       "      <td>2</td>\n",
       "      <td>2</td>\n",
       "      <td>2</td>\n",
       "      <td>1</td>\n",
       "      <td>3.5894</td>\n",
       "      <td>387</td>\n",
       "      <td>1</td>\n",
       "      <td>5780</td>\n",
       "      <td>2</td>\n",
       "      <td>21</td>\n",
       "      <td>7</td>\n",
       "    </tr>\n",
       "    <tr>\n",
       "      <th>3</th>\n",
       "      <td>153771</td>\n",
       "      <td>1</td>\n",
       "      <td>2</td>\n",
       "      <td>2</td>\n",
       "      <td>2</td>\n",
       "      <td>1</td>\n",
       "      <td>3.5894</td>\n",
       "      <td>9904</td>\n",
       "      <td>2</td>\n",
       "      <td>5780</td>\n",
       "      <td>2</td>\n",
       "      <td>21</td>\n",
       "      <td>7</td>\n",
       "    </tr>\n",
       "    <tr>\n",
       "      <th>4</th>\n",
       "      <td>153771</td>\n",
       "      <td>1</td>\n",
       "      <td>2</td>\n",
       "      <td>2</td>\n",
       "      <td>2</td>\n",
       "      <td>1</td>\n",
       "      <td>3.5894</td>\n",
       "      <td>387</td>\n",
       "      <td>1</td>\n",
       "      <td>5990</td>\n",
       "      <td>3</td>\n",
       "      <td>21</td>\n",
       "      <td>7</td>\n",
       "    </tr>\n",
       "  </tbody>\n",
       "</table>\n",
       "</div>"
      ],
      "text/plain": [
       "   HADM_ID  admission_type  admission_location  insurance  marital_status  \\\n",
       "0   153771               1                   2          2               2   \n",
       "1   153771               1                   2          2               2   \n",
       "2   153771               1                   2          2               2   \n",
       "3   153771               1                   2          2               2   \n",
       "4   153771               1                   2          2               2   \n",
       "\n",
       "   gender  ICU LOS  procedures_icd  procedures_seq  diagnoses_icd  \\\n",
       "0       1   3.5894             387               1            845   \n",
       "1       1   3.5894            9904               2            845   \n",
       "2       1   3.5894             387               1           5780   \n",
       "3       1   3.5894            9904               2           5780   \n",
       "4       1   3.5894             387               1           5990   \n",
       "\n",
       "   diagnoses_seq  AdmitDay  AdmitMonth  \n",
       "0              1        21           7  \n",
       "1              1        21           7  \n",
       "2              2        21           7  \n",
       "3              2        21           7  \n",
       "4              3        21           7  "
      ]
     },
     "execution_count": 33,
     "metadata": {},
     "output_type": "execute_result"
    }
   ],
   "source": [
    "#Now we will do preProcessing on data to convert text values to a integer code to fit the model.\n",
    "from sklearn.preprocessing import LabelEncoder\n",
    "le = LabelEncoder()\n",
    "X['gender'] = le.fit_transform(X.gender)\n",
    "X['marital_status'] = le.fit_transform(X.marital_status)\n",
    "X['insurance'] = le.fit_transform(X.insurance)\n",
    "X['admission_location'] = le.fit_transform(X.admission_location)\n",
    "X['admission_type'] = le.fit_transform(X.admission_type)\n",
    "X.head()"
   ]
  },
  {
   "cell_type": "code",
   "execution_count": 34,
   "metadata": {},
   "outputs": [
    {
     "data": {
      "text/plain": [
       "<matplotlib.axes._subplots.AxesSubplot at 0x1840694ec48>"
      ]
     },
     "execution_count": 34,
     "metadata": {},
     "output_type": "execute_result"
    },
    {
     "data": {
      "image/png": "[encoded data removed]",
      "text/plain": [
       "<Figure size 1440x720 with 1 Axes>"
      ]
     },
     "metadata": {},
     "output_type": "display_data"
    }
   ],
   "source": [
    "# Corelation with target variable\n",
    "X.corrwith(y).plot.bar(figsize = (20, 10), title = 'Correlation with Response Variable', \n",
    "                                   fontsize = 15, rot = 45, grid = True)"
   ]
  },
  {
   "cell_type": "code",
   "execution_count": 35,
   "metadata": {},
   "outputs": [],
   "source": [
    "# Set Background\n",
    "sn.set(style = 'white', font_scale =2)\n",
    "# Compute the matrix\n",
    "corr = X.corr()\n",
    "# Generate the mask for the upper triangle\n",
    "\n",
    "mask = np.zeros_like(corr, dtype=np.bool)\n",
    "mask[np.triu_indices_from(mask)] = True"
   ]
  },
  {
   "cell_type": "code",
   "execution_count": 36,
   "metadata": {},
   "outputs": [
    {
     "data": {
      "text/plain": [
       "<matplotlib.axes._subplots.AxesSubplot at 0x1840d15cfc8>"
      ]
     },
     "execution_count": 36,
     "metadata": {},
     "output_type": "execute_result"
    },
    {
     "data": {
      "image/png": "[encoded data removed]",
      "text/plain": [
       "<Figure size 1440x1296 with 2 Axes>"
      ]
     },
     "metadata": {},
     "output_type": "display_data"
    }
   ],
   "source": [
    "import matplotlib.pyplot as plt\n",
    "# Set up the matplotlib figure\n",
    "f, ax = plt.subplots(figsize=(20, 18))\n",
    "f.suptitle(\"Correlation Matrix\", fontsize = 40)\n",
    "\n",
    "# Generate a custom diverging colormap\n",
    "cmap = sn.diverging_palette(220, 10, as_cmap=True)\n",
    "\n",
    "# Draw the heatmap with the mask and correct aspect ratio\n",
    "sn.heatmap(corr, mask = mask, cmap=cmap, vmax=.3, center=0,\n",
    "            square=True, linewidths=.5, cbar_kws={\"shrink\": .5})"
   ]
  },
  {
   "cell_type": "code",
   "execution_count": 37,
   "metadata": {},
   "outputs": [
    {
     "data": {
      "text/plain": [
       "<matplotlib.axes._subplots.AxesSubplot at 0x1840d260e48>"
      ]
     },
     "execution_count": 37,
     "metadata": {},
     "output_type": "execute_result"
    },
    {
     "data": {
      "image/png": "[encoded data removed]",
      "text/plain": [
       "<Figure size 842.4x595.44 with 1 Axes>"
      ]
     },
     "metadata": {},
     "output_type": "display_data"
    }
   ],
   "source": [
    "gender_count =  mimic_40.groupby(['admission_type','gender']).gender.count().unstack()\n",
    "gender_count.plot(kind = 'bar')"
   ]
  },
  {
   "cell_type": "code",
   "execution_count": 38,
   "metadata": {},
   "outputs": [],
   "source": [
    "#Splliting the data into train and test\n",
    "from sklearn.model_selection import train_test_split\n",
    "X_train, X_test, y_train, y_test = train_test_split(X,y,random_state = 12)"
   ]
  },
  {
   "cell_type": "code",
   "execution_count": 39,
   "metadata": {},
   "outputs": [],
   "source": [
    "#Now we will create a pipeline to choose the best model. \n",
    "from sklearn.pipeline import make_pipeline, Pipeline\n",
    "from sklearn.preprocessing import MinMaxScaler\n",
    "from sklearn.linear_model import SGDRegressor, Ridge, Lasso, LinearRegression\n",
    "from sklearn.ensemble import RandomForestRegressor\n",
    "from sklearn.tree import DecisionTreeRegressor\n",
    "pipe = Pipeline([('preprocessing', MinMaxScaler()), ('regressor',RandomForestRegressor())])\n",
    "\n",
    "\n",
    "param_grid = [\n",
    "{'regressor': [RandomForestRegressor()], 'preprocessing': [MinMaxScaler()],'regressor__max_depth':[24,27]}]"
   ]
  },
  {
   "cell_type": "code",
   "execution_count": 40,
   "metadata": {},
   "outputs": [],
   "source": [
    "#Now We will crate a Grid Search without Length of stay of ICU. \n",
    "X_train_no_ICU = X_train.drop(['ICU LOS'], axis = 1)\n",
    "X_test_no_ICU = X_test.drop(['ICU LOS'], axis = 1)"
   ]
  },
  {
   "cell_type": "code",
   "execution_count": 42,
   "metadata": {},
   "outputs": [
    {
     "data": {
      "text/plain": [
       "GridSearchCV(cv=2, error_score=nan,\n",
       "             estimator=Pipeline(memory=None,\n",
       "                                steps=[('preprocessing',\n",
       "                                        MinMaxScaler(copy=True,\n",
       "                                                     feature_range=(0, 1))),\n",
       "                                       ('regressor',\n",
       "                                        RandomForestRegressor(bootstrap=True,\n",
       "                                                              ccp_alpha=0.0,\n",
       "                                                              criterion='mse',\n",
       "                                                              max_depth=None,\n",
       "                                                              max_features='auto',\n",
       "                                                              max_leaf_nodes=None,\n",
       "                                                              max_samples=None,\n",
       "                                                              min_impurity_decrease=0.0,\n",
       "                                                              min_impurity_split=None,\n",
       "                                                              min_samples_le...\n",
       "                                                              max_leaf_nodes=None,\n",
       "                                                              max_samples=None,\n",
       "                                                              min_impurity_decrease=0.0,\n",
       "                                                              min_impurity_split=None,\n",
       "                                                              min_samples_leaf=1,\n",
       "                                                              min_samples_split=2,\n",
       "                                                              min_weight_fraction_leaf=0.0,\n",
       "                                                              n_estimators=100,\n",
       "                                                              n_jobs=None,\n",
       "                                                              oob_score=False,\n",
       "                                                              random_state=None,\n",
       "                                                              verbose=0,\n",
       "                                                              warm_start=False)],\n",
       "                          'regressor__max_depth': [24, 27]}],\n",
       "             pre_dispatch='2*n_jobs', refit=True, return_train_score=False,\n",
       "             scoring=None, verbose=0)"
      ]
     },
     "execution_count": 42,
     "metadata": {},
     "output_type": "execute_result"
    }
   ],
   "source": [
    "from sklearn.model_selection import GridSearchCV\n",
    "#Creating the grid\n",
    "grid2 = GridSearchCV(pipe, param_grid, cv=2)\n",
    "grid2.fit(X_train_no_ICU, y_train)"
   ]
  },
  {
   "cell_type": "code",
   "execution_count": 43,
   "metadata": {},
   "outputs": [
    {
     "name": "stdout",
     "output_type": "stream",
     "text": [
      "{'preprocessing': MinMaxScaler(copy=True, feature_range=(0, 1)), 'regressor': RandomForestRegressor(bootstrap=True, ccp_alpha=0.0, criterion='mse',\n",
      "                      max_depth=27, max_features='auto', max_leaf_nodes=None,\n",
      "                      max_samples=None, min_impurity_decrease=0.0,\n",
      "                      min_impurity_split=None, min_samples_leaf=1,\n",
      "                      min_samples_split=2, min_weight_fraction_leaf=0.0,\n",
      "                      n_estimators=100, n_jobs=None, oob_score=False,\n",
      "                      random_state=None, verbose=0, warm_start=False), 'regressor__max_depth': 27} \n",
      "\n",
      " Best score 0.8698033930030362 \n",
      "\n",
      " The best Test score is 0.9326634145903218\n"
     ]
    }
   ],
   "source": [
    "#The best parameters and best accuracy score is.\n",
    "print(grid2.best_params_, '\\n\\n', 'Best score',grid2.best_score_, \"\\n\\n The best Test score is\", grid2.score(X_test_no_ICU,y_test))"
   ]
  },
  {
   "cell_type": "code",
   "execution_count": 44,
   "metadata": {},
   "outputs": [
    {
     "name": "stderr",
     "output_type": "stream",
     "text": [
      "C:\\Users\\soham\\Anaconda3\\envs\\tn1\\lib\\site-packages\\tensorflow\\python\\framework\\dtypes.py:516: FutureWarning: Passing (type, 1) or '1type' as a synonym of type is deprecated; in a future version of numpy, it will be understood as (type, (1,)) / '(1,)type'.\n",
      "  _np_qint8 = np.dtype([(\"qint8\", np.int8, 1)])\n",
      "C:\\Users\\soham\\Anaconda3\\envs\\tn1\\lib\\site-packages\\tensorflow\\python\\framework\\dtypes.py:517: FutureWarning: Passing (type, 1) or '1type' as a synonym of type is deprecated; in a future version of numpy, it will be understood as (type, (1,)) / '(1,)type'.\n",
      "  _np_quint8 = np.dtype([(\"quint8\", np.uint8, 1)])\n",
      "C:\\Users\\soham\\Anaconda3\\envs\\tn1\\lib\\site-packages\\tensorflow\\python\\framework\\dtypes.py:518: FutureWarning: Passing (type, 1) or '1type' as a synonym of type is deprecated; in a future version of numpy, it will be understood as (type, (1,)) / '(1,)type'.\n",
      "  _np_qint16 = np.dtype([(\"qint16\", np.int16, 1)])\n",
      "C:\\Users\\soham\\Anaconda3\\envs\\tn1\\lib\\site-packages\\tensorflow\\python\\framework\\dtypes.py:519: FutureWarning: Passing (type, 1) or '1type' as a synonym of type is deprecated; in a future version of numpy, it will be understood as (type, (1,)) / '(1,)type'.\n",
      "  _np_quint16 = np.dtype([(\"quint16\", np.uint16, 1)])\n",
      "C:\\Users\\soham\\Anaconda3\\envs\\tn1\\lib\\site-packages\\tensorflow\\python\\framework\\dtypes.py:520: FutureWarning: Passing (type, 1) or '1type' as a synonym of type is deprecated; in a future version of numpy, it will be understood as (type, (1,)) / '(1,)type'.\n",
      "  _np_qint32 = np.dtype([(\"qint32\", np.int32, 1)])\n",
      "C:\\Users\\soham\\Anaconda3\\envs\\tn1\\lib\\site-packages\\tensorflow\\python\\framework\\dtypes.py:525: FutureWarning: Passing (type, 1) or '1type' as a synonym of type is deprecated; in a future version of numpy, it will be understood as (type, (1,)) / '(1,)type'.\n",
      "  np_resource = np.dtype([(\"resource\", np.ubyte, 1)])\n",
      "C:\\Users\\soham\\Anaconda3\\envs\\tn1\\lib\\site-packages\\tensorboard\\compat\\tensorflow_stub\\dtypes.py:541: FutureWarning: Passing (type, 1) or '1type' as a synonym of type is deprecated; in a future version of numpy, it will be understood as (type, (1,)) / '(1,)type'.\n",
      "  _np_qint8 = np.dtype([(\"qint8\", np.int8, 1)])\n",
      "C:\\Users\\soham\\Anaconda3\\envs\\tn1\\lib\\site-packages\\tensorboard\\compat\\tensorflow_stub\\dtypes.py:542: FutureWarning: Passing (type, 1) or '1type' as a synonym of type is deprecated; in a future version of numpy, it will be understood as (type, (1,)) / '(1,)type'.\n",
      "  _np_quint8 = np.dtype([(\"quint8\", np.uint8, 1)])\n",
      "C:\\Users\\soham\\Anaconda3\\envs\\tn1\\lib\\site-packages\\tensorboard\\compat\\tensorflow_stub\\dtypes.py:543: FutureWarning: Passing (type, 1) or '1type' as a synonym of type is deprecated; in a future version of numpy, it will be understood as (type, (1,)) / '(1,)type'.\n",
      "  _np_qint16 = np.dtype([(\"qint16\", np.int16, 1)])\n",
      "C:\\Users\\soham\\Anaconda3\\envs\\tn1\\lib\\site-packages\\tensorboard\\compat\\tensorflow_stub\\dtypes.py:544: FutureWarning: Passing (type, 1) or '1type' as a synonym of type is deprecated; in a future version of numpy, it will be understood as (type, (1,)) / '(1,)type'.\n",
      "  _np_quint16 = np.dtype([(\"quint16\", np.uint16, 1)])\n",
      "C:\\Users\\soham\\Anaconda3\\envs\\tn1\\lib\\site-packages\\tensorboard\\compat\\tensorflow_stub\\dtypes.py:545: FutureWarning: Passing (type, 1) or '1type' as a synonym of type is deprecated; in a future version of numpy, it will be understood as (type, (1,)) / '(1,)type'.\n",
      "  _np_qint32 = np.dtype([(\"qint32\", np.int32, 1)])\n",
      "C:\\Users\\soham\\Anaconda3\\envs\\tn1\\lib\\site-packages\\tensorboard\\compat\\tensorflow_stub\\dtypes.py:550: FutureWarning: Passing (type, 1) or '1type' as a synonym of type is deprecated; in a future version of numpy, it will be understood as (type, (1,)) / '(1,)type'.\n",
      "  np_resource = np.dtype([(\"resource\", np.ubyte, 1)])\n"
     ]
    },
    {
     "name": "stdout",
     "output_type": "stream",
     "text": [
      "[name: \"/device:CPU:0\"\n",
      "device_type: \"CPU\"\n",
      "memory_limit: 268435456\n",
      "locality {\n",
      "}\n",
      "incarnation: 884678076929029757\n",
      ", name: \"/device:GPU:0\"\n",
      "device_type: \"GPU\"\n",
      "memory_limit: 3146173644\n",
      "locality {\n",
      "  bus_id: 1\n",
      "  links {\n",
      "  }\n",
      "}\n",
      "incarnation: 11559765508270908784\n",
      "physical_device_desc: \"device: 0, name: GeForce GTX 1050 Ti, pci bus id: 0000:01:00.0, compute capability: 6.1\"\n",
      "]\n"
     ]
    }
   ],
   "source": [
    "# Now we will create a neural network to predict the los\n",
    "# TO compile neural network CPU takes lot of time so we will do it on GPU\n",
    "\n",
    "from tensorflow.python.client import device_lib\n",
    "print(device_lib.list_local_devices())"
   ]
  },
  {
   "cell_type": "markdown",
   "metadata": {},
   "source": [
    "# Everything below this is about Neural Networks"
   ]
  },
  {
   "cell_type": "code",
   "execution_count": 45,
   "metadata": {},
   "outputs": [
    {
     "name": "stderr",
     "output_type": "stream",
     "text": [
      "Using TensorFlow backend.\n"
     ]
    },
    {
     "data": {
      "text/plain": [
       "['/job:localhost/replica:0/task:0/device:GPU:0']"
      ]
     },
     "execution_count": 45,
     "metadata": {},
     "output_type": "execute_result"
    }
   ],
   "source": [
    "from keras import backend as K\n",
    "K.tensorflow_backend._get_available_gpus()"
   ]
  },
  {
   "cell_type": "code",
   "execution_count": 46,
   "metadata": {},
   "outputs": [],
   "source": [
    "import tensorflow as tf\n",
    "import keras\n",
    "config = tf.ConfigProto( device_count = {'GPU': 1 , 'CPU': 6},  ) \n",
    "sess = tf.Session(config=config) \n",
    "keras.backend.set_session(sess)"
   ]
  },
  {
   "cell_type": "markdown",
   "metadata": {},
   "source": [
    "## Importing packages"
   ]
  },
  {
   "cell_type": "code",
   "execution_count": 47,
   "metadata": {},
   "outputs": [],
   "source": [
    "from keras.callbacks import ModelCheckpoint\n",
    "from keras.models import Sequential\n",
    "from keras.layers import Dense, Activation, Flatten\n",
    "from sklearn.model_selection import train_test_split\n",
    "from sklearn.metrics import mean_absolute_error, mean_squared_error\n",
    "from keras.layers import LeakyReLU"
   ]
  },
  {
   "cell_type": "code",
   "execution_count": 48,
   "metadata": {},
   "outputs": [],
   "source": [
    "mm = MinMaxScaler()"
   ]
  },
  {
   "cell_type": "code",
   "execution_count": 49,
   "metadata": {},
   "outputs": [],
   "source": [
    "X_train_no_ICU_scaled = mm.fit_transform(X_train_no_ICU)\n",
    "X_test_no_ICU_scaled = mm.fit_transform(X_test_no_ICU)"
   ]
  },
  {
   "cell_type": "code",
   "execution_count": 50,
   "metadata": {},
   "outputs": [
    {
     "name": "stdout",
     "output_type": "stream",
     "text": [
      "1456781\n"
     ]
    }
   ],
   "source": [
    "print( X_train_no_ICU.shape[0])"
   ]
  },
  {
   "cell_type": "markdown",
   "metadata": {},
   "source": [
    "## Creating the model"
   ]
  },
  {
   "cell_type": "code",
   "execution_count": 51,
   "metadata": {},
   "outputs": [
    {
     "name": "stdout",
     "output_type": "stream",
     "text": [
      "Model: \"sequential_1\"\n",
      "_________________________________________________________________\n",
      "Layer (type)                 Output Shape              Param #   \n",
      "=================================================================\n",
      "dense_1 (Dense)              (None, 32)                416       \n",
      "_________________________________________________________________\n",
      "dense_2 (Dense)              (None, 256)               8448      \n",
      "_________________________________________________________________\n",
      "dense_3 (Dense)              (None, 128)               32896     \n",
      "_________________________________________________________________\n",
      "dense_4 (Dense)              (None, 96)                12384     \n",
      "_________________________________________________________________\n",
      "dense_5 (Dense)              (None, 64)                6208      \n",
      "_________________________________________________________________\n",
      "dense_6 (Dense)              (None, 16)                1040      \n",
      "_________________________________________________________________\n",
      "dense_7 (Dense)              (None, 1)                 17        \n",
      "=================================================================\n",
      "Total params: 61,409\n",
      "Trainable params: 61,409\n",
      "Non-trainable params: 0\n",
      "_________________________________________________________________\n"
     ]
    }
   ],
   "source": [
    "NN_model = Sequential()\n",
    "\n",
    "# The Input Layer :\n",
    "NN_model.add(Dense(32, kernel_initializer='normal',input_dim = X_train_no_ICU.shape[1], activation='relu'))\n",
    "\n",
    "\n",
    "NN_model.add(Dense(256, kernel_initializer= 'normal', activation= 'relu'))\n",
    "NN_model.add(Dense(128, kernel_initializer= 'normal', activation= 'relu'))\n",
    "NN_model.add(Dense(96, kernel_initializer= 'normal', activation= 'relu'))\n",
    "NN_model.add(Dense(64, kernel_initializer= 'normal', activation= 'relu'))\n",
    "NN_model.add(Dense(16, kernel_initializer= 'normal', activation= 'relu'))\n",
    "\n",
    "# The Output Layer :\n",
    "NN_model.add(Dense(1, kernel_initializer='Zeros'))\n",
    "\n",
    "# Compile the network :\n",
    "NN_model.compile(loss='mean_absolute_error', optimizer='adam', metrics=['mean_absolute_error'])\n",
    "NN_model.summary()"
   ]
  },
  {
   "cell_type": "code",
   "execution_count": 52,
   "metadata": {},
   "outputs": [],
   "source": [
    "checkpoint_name = 'Weights-{epoch:03d}--{val_loss:.5f}.hdf5' \n",
    "checkpoint = ModelCheckpoint(checkpoint_name, monitor='val_loss', verbose = 1, save_best_only = True, mode ='auto')\n",
    "callbacks_list = [checkpoint]"
   ]
  },
  {
   "cell_type": "markdown",
   "metadata": {},
   "source": [
    "## Training the model "
   ]
  },
  {
   "cell_type": "code",
   "execution_count": 53,
   "metadata": {},
   "outputs": [
    {
     "name": "stdout",
     "output_type": "stream",
     "text": [
      "WARNING:tensorflow:From C:\\Users\\soham\\Anaconda3\\envs\\tn1\\lib\\site-packages\\keras\\backend\\tensorflow_backend.py:422: The name tf.global_variables is deprecated. Please use tf.compat.v1.global_variables instead.\n",
      "\n",
      "Train on 1456781 samples, validate on 485594 samples\n",
      "Epoch 1/500\n",
      "1456781/1456781 [==============================] - 4s 3us/step - loss: 7.9765 - mean_absolute_error: 7.9765 - val_loss: 6.9539 - val_mean_absolute_error: 6.9539\n",
      "Epoch 2/500\n",
      "1456781/1456781 [==============================] - 3s 2us/step - loss: 6.9293 - mean_absolute_error: 6.9293 - val_loss: 6.9088 - val_mean_absolute_error: 6.9088\n",
      "Epoch 3/500\n",
      "1456781/1456781 [==============================] - 3s 2us/step - loss: 6.9014 - mean_absolute_error: 6.9014 - val_loss: 6.8971 - val_mean_absolute_error: 6.8971\n",
      "Epoch 4/500\n",
      "1456781/1456781 [==============================] - 3s 2us/step - loss: 6.8912 - mean_absolute_error: 6.8912 - val_loss: 6.8936 - val_mean_absolute_error: 6.8936\n",
      "Epoch 5/500\n",
      "1456781/1456781 [==============================] - 3s 2us/step - loss: 6.8741 - mean_absolute_error: 6.8741 - val_loss: 6.8587 - val_mean_absolute_error: 6.8587\n",
      "Epoch 6/500\n",
      "1456781/1456781 [==============================] - 3s 2us/step - loss: 6.8555 - mean_absolute_error: 6.8555 - val_loss: 6.8383 - val_mean_absolute_error: 6.8383\n",
      "Epoch 7/500\n",
      "1456781/1456781 [==============================] - 3s 2us/step - loss: 6.8370 - mean_absolute_error: 6.8370 - val_loss: 6.8240 - val_mean_absolute_error: 6.8240\n",
      "Epoch 8/500\n",
      "1456781/1456781 [==============================] - 3s 2us/step - loss: 6.8182 - mean_absolute_error: 6.8182 - val_loss: 6.7969 - val_mean_absolute_error: 6.7969\n",
      "Epoch 9/500\n",
      "1456781/1456781 [==============================] - 3s 2us/step - loss: 6.7970 - mean_absolute_error: 6.7970 - val_loss: 6.7746 - val_mean_absolute_error: 6.7746\n",
      "Epoch 10/500\n",
      "1456781/1456781 [==============================] - 3s 2us/step - loss: 6.7748 - mean_absolute_error: 6.7748 - val_loss: 6.7959 - val_mean_absolute_error: 6.7959\n",
      "Epoch 11/500\n",
      "1456781/1456781 [==============================] - 3s 2us/step - loss: 6.7594 - mean_absolute_error: 6.7594 - val_loss: 6.7677 - val_mean_absolute_error: 6.7677\n",
      "Epoch 12/500\n",
      "1456781/1456781 [==============================] - 3s 2us/step - loss: 6.7473 - mean_absolute_error: 6.7473 - val_loss: 6.7354 - val_mean_absolute_error: 6.7354\n",
      "Epoch 13/500\n",
      "1456781/1456781 [==============================] - 3s 2us/step - loss: 6.7397 - mean_absolute_error: 6.7397 - val_loss: 6.7158 - val_mean_absolute_error: 6.7158\n",
      "Epoch 14/500\n",
      "1456781/1456781 [==============================] - 3s 2us/step - loss: 6.7139 - mean_absolute_error: 6.7139 - val_loss: 6.6939 - val_mean_absolute_error: 6.6939\n",
      "Epoch 15/500\n",
      "1456781/1456781 [==============================] - 3s 2us/step - loss: 6.6998 - mean_absolute_error: 6.6998 - val_loss: 6.6791 - val_mean_absolute_error: 6.6791\n",
      "Epoch 16/500\n",
      "1456781/1456781 [==============================] - 3s 2us/step - loss: 6.6799 - mean_absolute_error: 6.6799 - val_loss: 6.6543 - val_mean_absolute_error: 6.6543\n",
      "Epoch 17/500\n",
      "1456781/1456781 [==============================] - 3s 2us/step - loss: 6.6505 - mean_absolute_error: 6.6505 - val_loss: 6.6259 - val_mean_absolute_error: 6.6259\n",
      "Epoch 18/500\n",
      "1456781/1456781 [==============================] - 3s 2us/step - loss: 6.6198 - mean_absolute_error: 6.6198 - val_loss: 6.5919 - val_mean_absolute_error: 6.5919\n",
      "Epoch 19/500\n",
      "1456781/1456781 [==============================] - 3s 2us/step - loss: 6.5738 - mean_absolute_error: 6.5738 - val_loss: 6.5329 - val_mean_absolute_error: 6.5329\n",
      "Epoch 20/500\n",
      "1456781/1456781 [==============================] - 3s 2us/step - loss: 6.5295 - mean_absolute_error: 6.5295 - val_loss: 6.5143 - val_mean_absolute_error: 6.5143\n",
      "Epoch 21/500\n",
      "1456781/1456781 [==============================] - 3s 2us/step - loss: 6.4891 - mean_absolute_error: 6.4891 - val_loss: 6.4810 - val_mean_absolute_error: 6.4810\n",
      "Epoch 22/500\n",
      "1456781/1456781 [==============================] - 3s 2us/step - loss: 6.4489 - mean_absolute_error: 6.4489 - val_loss: 6.4240 - val_mean_absolute_error: 6.4240\n",
      "Epoch 23/500\n",
      "1456781/1456781 [==============================] - 3s 2us/step - loss: 6.4045 - mean_absolute_error: 6.4045 - val_loss: 6.4012 - val_mean_absolute_error: 6.4012\n",
      "Epoch 24/500\n",
      "1456781/1456781 [==============================] - 3s 2us/step - loss: 6.3501 - mean_absolute_error: 6.3501 - val_loss: 6.3708 - val_mean_absolute_error: 6.3708\n",
      "Epoch 25/500\n",
      "1456781/1456781 [==============================] - 3s 2us/step - loss: 6.2930 - mean_absolute_error: 6.2930 - val_loss: 6.2518 - val_mean_absolute_error: 6.2518\n",
      "Epoch 26/500\n",
      "1456781/1456781 [==============================] - 3s 2us/step - loss: 6.2241 - mean_absolute_error: 6.2241 - val_loss: 6.1811 - val_mean_absolute_error: 6.1811\n",
      "Epoch 27/500\n",
      "1456781/1456781 [==============================] - 3s 2us/step - loss: 6.1548 - mean_absolute_error: 6.1548 - val_loss: 6.1010 - val_mean_absolute_error: 6.1010\n",
      "Epoch 28/500\n",
      "1456781/1456781 [==============================] - 3s 2us/step - loss: 6.0732 - mean_absolute_error: 6.0732 - val_loss: 6.0459 - val_mean_absolute_error: 6.0459\n",
      "Epoch 29/500\n",
      "1456781/1456781 [==============================] - 3s 2us/step - loss: 5.9848 - mean_absolute_error: 5.9848 - val_loss: 5.9465 - val_mean_absolute_error: 5.9465\n",
      "Epoch 30/500\n",
      "1456781/1456781 [==============================] - 3s 2us/step - loss: 5.8970 - mean_absolute_error: 5.8970 - val_loss: 5.8570 - val_mean_absolute_error: 5.8570\n",
      "Epoch 31/500\n",
      "1456781/1456781 [==============================] - 3s 2us/step - loss: 5.8069 - mean_absolute_error: 5.8069 - val_loss: 5.7790 - val_mean_absolute_error: 5.7790\n",
      "Epoch 32/500\n",
      "1456781/1456781 [==============================] - 3s 2us/step - loss: 5.7059 - mean_absolute_error: 5.7059 - val_loss: 5.6786 - val_mean_absolute_error: 5.6786\n",
      "Epoch 33/500\n",
      "1456781/1456781 [==============================] - 3s 2us/step - loss: 5.6185 - mean_absolute_error: 5.6185 - val_loss: 5.6153 - val_mean_absolute_error: 5.6153\n",
      "Epoch 34/500\n",
      "1456781/1456781 [==============================] - 3s 2us/step - loss: 5.5488 - mean_absolute_error: 5.5488 - val_loss: 5.5274 - val_mean_absolute_error: 5.5274\n",
      "Epoch 35/500\n",
      "1456781/1456781 [==============================] - 3s 2us/step - loss: 5.4484 - mean_absolute_error: 5.4484 - val_loss: 5.4096 - val_mean_absolute_error: 5.4095\n",
      "Epoch 36/500\n",
      "1456781/1456781 [==============================] - 3s 2us/step - loss: 5.3651 - mean_absolute_error: 5.3651 - val_loss: 5.4185 - val_mean_absolute_error: 5.4185\n",
      "Epoch 37/500\n",
      "1456781/1456781 [==============================] - 3s 2us/step - loss: 5.3097 - mean_absolute_error: 5.3097 - val_loss: 5.3563 - val_mean_absolute_error: 5.3563\n",
      "Epoch 38/500\n",
      "1456781/1456781 [==============================] - 3s 2us/step - loss: 5.2264 - mean_absolute_error: 5.2264 - val_loss: 5.2764 - val_mean_absolute_error: 5.2764\n",
      "Epoch 39/500\n",
      "1456781/1456781 [==============================] - 3s 2us/step - loss: 5.1591 - mean_absolute_error: 5.1591 - val_loss: 5.2482 - val_mean_absolute_error: 5.2482\n",
      "Epoch 40/500\n",
      "1456781/1456781 [==============================] - 3s 2us/step - loss: 5.0903 - mean_absolute_error: 5.0903 - val_loss: 5.0467 - val_mean_absolute_error: 5.0467\n",
      "Epoch 41/500\n",
      "1456781/1456781 [==============================] - 3s 2us/step - loss: 5.0312 - mean_absolute_error: 5.0312 - val_loss: 5.0769 - val_mean_absolute_error: 5.0769\n",
      "Epoch 42/500\n",
      "1456781/1456781 [==============================] - 3s 2us/step - loss: 4.9579 - mean_absolute_error: 4.9579 - val_loss: 5.0354 - val_mean_absolute_error: 5.0354\n",
      "Epoch 43/500\n",
      "1456781/1456781 [==============================] - 3s 2us/step - loss: 4.9164 - mean_absolute_error: 4.9164 - val_loss: 4.8930 - val_mean_absolute_error: 4.8930\n",
      "Epoch 44/500\n",
      "1456781/1456781 [==============================] - 3s 2us/step - loss: 4.8510 - mean_absolute_error: 4.8510 - val_loss: 4.7686 - val_mean_absolute_error: 4.7686\n",
      "Epoch 45/500\n",
      "1456781/1456781 [==============================] - 3s 2us/step - loss: 4.7831 - mean_absolute_error: 4.7831 - val_loss: 4.9467 - val_mean_absolute_error: 4.9467\n",
      "Epoch 46/500\n",
      "1456781/1456781 [==============================] - 3s 2us/step - loss: 4.7534 - mean_absolute_error: 4.7534 - val_loss: 4.7647 - val_mean_absolute_error: 4.7647\n",
      "Epoch 47/500\n",
      "1456781/1456781 [==============================] - 3s 2us/step - loss: 4.6868 - mean_absolute_error: 4.6868 - val_loss: 4.6500 - val_mean_absolute_error: 4.6500\n",
      "Epoch 48/500\n",
      "1456781/1456781 [==============================] - 3s 2us/step - loss: 4.6428 - mean_absolute_error: 4.6428 - val_loss: 4.5795 - val_mean_absolute_error: 4.5795\n",
      "Epoch 49/500\n",
      "1456781/1456781 [==============================] - 3s 2us/step - loss: 4.6071 - mean_absolute_error: 4.6071 - val_loss: 4.5489 - val_mean_absolute_error: 4.5489\n",
      "Epoch 50/500\n",
      "1456781/1456781 [==============================] - 3s 2us/step - loss: 4.5307 - mean_absolute_error: 4.5307 - val_loss: 4.6503 - val_mean_absolute_error: 4.6503\n",
      "Epoch 51/500\n",
      "1456781/1456781 [==============================] - 3s 2us/step - loss: 4.5039 - mean_absolute_error: 4.5039 - val_loss: 4.3926 - val_mean_absolute_error: 4.3926\n",
      "Epoch 52/500\n",
      "1456781/1456781 [==============================] - 3s 2us/step - loss: 4.4685 - mean_absolute_error: 4.4685 - val_loss: 4.3780 - val_mean_absolute_error: 4.3780\n",
      "Epoch 53/500\n",
      "1456781/1456781 [==============================] - 3s 2us/step - loss: 4.4063 - mean_absolute_error: 4.4063 - val_loss: 4.3716 - val_mean_absolute_error: 4.3716\n",
      "Epoch 54/500\n",
      "1456781/1456781 [==============================] - 3s 2us/step - loss: 4.3912 - mean_absolute_error: 4.3912 - val_loss: 4.3065 - val_mean_absolute_error: 4.3065\n",
      "Epoch 55/500\n",
      "1456781/1456781 [==============================] - 3s 2us/step - loss: 4.3451 - mean_absolute_error: 4.3451 - val_loss: 4.3504 - val_mean_absolute_error: 4.3504\n",
      "Epoch 56/500\n",
      "1456781/1456781 [==============================] - 3s 2us/step - loss: 4.3150 - mean_absolute_error: 4.3150 - val_loss: 4.3558 - val_mean_absolute_error: 4.3558\n",
      "Epoch 57/500\n",
      "1456781/1456781 [==============================] - 3s 2us/step - loss: 4.2798 - mean_absolute_error: 4.2798 - val_loss: 4.2252 - val_mean_absolute_error: 4.2252\n",
      "Epoch 58/500\n",
      "1456781/1456781 [==============================] - 3s 2us/step - loss: 4.2544 - mean_absolute_error: 4.2544 - val_loss: 4.2009 - val_mean_absolute_error: 4.2009\n",
      "Epoch 59/500\n",
      "1456781/1456781 [==============================] - 3s 2us/step - loss: 4.2106 - mean_absolute_error: 4.2106 - val_loss: 4.2413 - val_mean_absolute_error: 4.2413\n",
      "Epoch 60/500\n",
      "1456781/1456781 [==============================] - 3s 2us/step - loss: 4.1692 - mean_absolute_error: 4.1693 - val_loss: 4.1138 - val_mean_absolute_error: 4.1138\n",
      "Epoch 61/500\n",
      "1456781/1456781 [==============================] - 3s 2us/step - loss: 4.1584 - mean_absolute_error: 4.1584 - val_loss: 4.0454 - val_mean_absolute_error: 4.0454\n",
      "Epoch 62/500\n",
      "1456781/1456781 [==============================] - 3s 2us/step - loss: 4.1348 - mean_absolute_error: 4.1348 - val_loss: 4.1408 - val_mean_absolute_error: 4.1408\n",
      "Epoch 63/500\n",
      "1456781/1456781 [==============================] - 3s 2us/step - loss: 4.0640 - mean_absolute_error: 4.0640 - val_loss: 4.0091 - val_mean_absolute_error: 4.0091\n",
      "Epoch 64/500\n",
      "1456781/1456781 [==============================] - 3s 2us/step - loss: 4.0711 - mean_absolute_error: 4.0711 - val_loss: 4.0166 - val_mean_absolute_error: 4.0166\n",
      "Epoch 65/500\n",
      "1456781/1456781 [==============================] - 3s 2us/step - loss: 4.0109 - mean_absolute_error: 4.0109 - val_loss: 3.9503 - val_mean_absolute_error: 3.9503\n",
      "Epoch 66/500\n",
      "1456781/1456781 [==============================] - 3s 2us/step - loss: 4.0022 - mean_absolute_error: 4.0022 - val_loss: 3.9808 - val_mean_absolute_error: 3.9808\n",
      "Epoch 67/500\n",
      "1456781/1456781 [==============================] - 3s 2us/step - loss: 3.9560 - mean_absolute_error: 3.9560 - val_loss: 3.8544 - val_mean_absolute_error: 3.8544\n",
      "Epoch 68/500\n",
      "1456781/1456781 [==============================] - 3s 2us/step - loss: 3.9357 - mean_absolute_error: 3.9357 - val_loss: 3.8819 - val_mean_absolute_error: 3.8819\n",
      "Epoch 69/500\n",
      "1456781/1456781 [==============================] - 3s 2us/step - loss: 3.9107 - mean_absolute_error: 3.9107 - val_loss: 3.8282 - val_mean_absolute_error: 3.8282\n",
      "Epoch 70/500\n",
      "1456781/1456781 [==============================] - 3s 2us/step - loss: 3.9071 - mean_absolute_error: 3.9071 - val_loss: 3.8836 - val_mean_absolute_error: 3.8836\n",
      "Epoch 71/500\n",
      "1456781/1456781 [==============================] - 3s 2us/step - loss: 3.8549 - mean_absolute_error: 3.8549 - val_loss: 3.8915 - val_mean_absolute_error: 3.8915\n",
      "Epoch 72/500\n",
      "1456781/1456781 [==============================] - 3s 2us/step - loss: 3.8325 - mean_absolute_error: 3.8325 - val_loss: 3.8505 - val_mean_absolute_error: 3.8505\n",
      "Epoch 73/500\n",
      "1456781/1456781 [==============================] - 3s 2us/step - loss: 3.8102 - mean_absolute_error: 3.8102 - val_loss: 3.7640 - val_mean_absolute_error: 3.7640\n",
      "Epoch 74/500\n",
      "1456781/1456781 [==============================] - 3s 2us/step - loss: 3.7801 - mean_absolute_error: 3.7801 - val_loss: 4.0889 - val_mean_absolute_error: 4.0889\n",
      "Epoch 75/500\n",
      "1456781/1456781 [==============================] - 3s 2us/step - loss: 3.7678 - mean_absolute_error: 3.7678 - val_loss: 3.8101 - val_mean_absolute_error: 3.8101\n",
      "Epoch 76/500\n",
      "1456781/1456781 [==============================] - 3s 2us/step - loss: 3.7240 - mean_absolute_error: 3.7240 - val_loss: 3.7336 - val_mean_absolute_error: 3.7336\n",
      "Epoch 77/500\n",
      "1456781/1456781 [==============================] - 3s 2us/step - loss: 3.7301 - mean_absolute_error: 3.7301 - val_loss: 3.7349 - val_mean_absolute_error: 3.7349\n",
      "Epoch 78/500\n",
      "1456781/1456781 [==============================] - 3s 2us/step - loss: 3.6982 - mean_absolute_error: 3.6982 - val_loss: 3.6527 - val_mean_absolute_error: 3.6527\n",
      "Epoch 79/500\n",
      "1456781/1456781 [==============================] - 3s 2us/step - loss: 3.6708 - mean_absolute_error: 3.6709 - val_loss: 3.6025 - val_mean_absolute_error: 3.6025\n",
      "Epoch 80/500\n",
      "1456781/1456781 [==============================] - 3s 2us/step - loss: 3.6274 - mean_absolute_error: 3.6274 - val_loss: 3.7697 - val_mean_absolute_error: 3.7697\n",
      "Epoch 81/500\n",
      "1456781/1456781 [==============================] - 3s 2us/step - loss: 3.6520 - mean_absolute_error: 3.6520 - val_loss: 3.7901 - val_mean_absolute_error: 3.7901\n",
      "Epoch 82/500\n",
      "1456781/1456781 [==============================] - 3s 2us/step - loss: 3.6199 - mean_absolute_error: 3.6199 - val_loss: 3.8133 - val_mean_absolute_error: 3.8133\n",
      "Epoch 83/500\n",
      "1456781/1456781 [==============================] - 3s 2us/step - loss: 3.5954 - mean_absolute_error: 3.5954 - val_loss: 3.5963 - val_mean_absolute_error: 3.5963\n",
      "Epoch 84/500\n",
      "1456781/1456781 [==============================] - 3s 2us/step - loss: 3.6092 - mean_absolute_error: 3.6092 - val_loss: 3.5386 - val_mean_absolute_error: 3.5386\n",
      "Epoch 85/500\n",
      "1456781/1456781 [==============================] - 3s 2us/step - loss: 3.5598 - mean_absolute_error: 3.5598 - val_loss: 3.5666 - val_mean_absolute_error: 3.5666\n",
      "Epoch 86/500\n",
      "1456781/1456781 [==============================] - 3s 2us/step - loss: 3.5576 - mean_absolute_error: 3.5576 - val_loss: 3.4976 - val_mean_absolute_error: 3.4976\n",
      "Epoch 87/500\n",
      "1456781/1456781 [==============================] - 3s 2us/step - loss: 3.5343 - mean_absolute_error: 3.5343 - val_loss: 3.4403 - val_mean_absolute_error: 3.4403\n",
      "Epoch 88/500\n",
      "1456781/1456781 [==============================] - 3s 2us/step - loss: 3.4963 - mean_absolute_error: 3.4963 - val_loss: 3.4715 - val_mean_absolute_error: 3.4715\n",
      "Epoch 89/500\n",
      "1456781/1456781 [==============================] - 3s 2us/step - loss: 3.4937 - mean_absolute_error: 3.4937 - val_loss: 3.3985 - val_mean_absolute_error: 3.3985\n",
      "Epoch 90/500\n",
      "1456781/1456781 [==============================] - 3s 2us/step - loss: 3.4712 - mean_absolute_error: 3.4712 - val_loss: 3.5708 - val_mean_absolute_error: 3.5708\n",
      "Epoch 91/500\n",
      "1456781/1456781 [==============================] - 3s 2us/step - loss: 3.4323 - mean_absolute_error: 3.4323 - val_loss: 3.4334 - val_mean_absolute_error: 3.4334\n",
      "Epoch 92/500\n",
      "1456781/1456781 [==============================] - 3s 2us/step - loss: 3.4190 - mean_absolute_error: 3.4190 - val_loss: 3.4048 - val_mean_absolute_error: 3.4048\n",
      "Epoch 93/500\n"
     ]
    },
    {
     "name": "stdout",
     "output_type": "stream",
     "text": [
      "1456781/1456781 [==============================] - 3s 2us/step - loss: 3.4325 - mean_absolute_error: 3.4325 - val_loss: 3.3739 - val_mean_absolute_error: 3.3739\n",
      "Epoch 94/500\n",
      "1456781/1456781 [==============================] - 3s 2us/step - loss: 3.3946 - mean_absolute_error: 3.3946 - val_loss: 3.3017 - val_mean_absolute_error: 3.3017\n",
      "Epoch 95/500\n",
      "1456781/1456781 [==============================] - 3s 2us/step - loss: 3.3651 - mean_absolute_error: 3.3651 - val_loss: 3.3772 - val_mean_absolute_error: 3.3772\n",
      "Epoch 96/500\n",
      "1456781/1456781 [==============================] - 3s 2us/step - loss: 3.3325 - mean_absolute_error: 3.3325 - val_loss: 3.3382 - val_mean_absolute_error: 3.3382\n",
      "Epoch 97/500\n",
      "1456781/1456781 [==============================] - 3s 2us/step - loss: 3.3829 - mean_absolute_error: 3.3829 - val_loss: 3.2511 - val_mean_absolute_error: 3.2511\n",
      "Epoch 98/500\n",
      "1456781/1456781 [==============================] - 3s 2us/step - loss: 3.3248 - mean_absolute_error: 3.3248 - val_loss: 3.3492 - val_mean_absolute_error: 3.3492\n",
      "Epoch 99/500\n",
      "1456781/1456781 [==============================] - 3s 2us/step - loss: 3.2931 - mean_absolute_error: 3.2931 - val_loss: 3.2594 - val_mean_absolute_error: 3.2594\n",
      "Epoch 100/500\n",
      "1456781/1456781 [==============================] - 3s 2us/step - loss: 3.3270 - mean_absolute_error: 3.3270 - val_loss: 3.5373 - val_mean_absolute_error: 3.5373\n",
      "Epoch 101/500\n",
      "1456781/1456781 [==============================] - 3s 2us/step - loss: 3.2667 - mean_absolute_error: 3.2667 - val_loss: 3.7860 - val_mean_absolute_error: 3.7860\n",
      "Epoch 102/500\n",
      "1456781/1456781 [==============================] - 3s 2us/step - loss: 3.2853 - mean_absolute_error: 3.2853 - val_loss: 3.4353 - val_mean_absolute_error: 3.4353\n",
      "Epoch 103/500\n",
      "1456781/1456781 [==============================] - 3s 2us/step - loss: 3.2251 - mean_absolute_error: 3.2251 - val_loss: 3.1566 - val_mean_absolute_error: 3.1566\n",
      "Epoch 104/500\n",
      "1456781/1456781 [==============================] - 3s 2us/step - loss: 3.2170 - mean_absolute_error: 3.2170 - val_loss: 3.1655 - val_mean_absolute_error: 3.1655\n",
      "Epoch 105/500\n",
      "1456781/1456781 [==============================] - 3s 2us/step - loss: 3.2431 - mean_absolute_error: 3.2431 - val_loss: 3.2102 - val_mean_absolute_error: 3.2102\n",
      "Epoch 106/500\n",
      "1456781/1456781 [==============================] - 3s 2us/step - loss: 3.1855 - mean_absolute_error: 3.1855 - val_loss: 3.1829 - val_mean_absolute_error: 3.1829\n",
      "Epoch 107/500\n",
      "1456781/1456781 [==============================] - 3s 2us/step - loss: 3.1865 - mean_absolute_error: 3.1865 - val_loss: 3.0573 - val_mean_absolute_error: 3.0573\n",
      "Epoch 108/500\n",
      "1456781/1456781 [==============================] - 3s 2us/step - loss: 3.1988 - mean_absolute_error: 3.1988 - val_loss: 3.3176 - val_mean_absolute_error: 3.3176\n",
      "Epoch 109/500\n",
      "1456781/1456781 [==============================] - 3s 2us/step - loss: 3.1615 - mean_absolute_error: 3.1615 - val_loss: 3.0778 - val_mean_absolute_error: 3.0778\n",
      "Epoch 110/500\n",
      "1456781/1456781 [==============================] - 3s 2us/step - loss: 3.1125 - mean_absolute_error: 3.1125 - val_loss: 3.1893 - val_mean_absolute_error: 3.1893\n",
      "Epoch 111/500\n",
      "1456781/1456781 [==============================] - 3s 2us/step - loss: 3.1789 - mean_absolute_error: 3.1789 - val_loss: 3.1106 - val_mean_absolute_error: 3.1106\n",
      "Epoch 112/500\n",
      "1456781/1456781 [==============================] - 3s 2us/step - loss: 3.1288 - mean_absolute_error: 3.1288 - val_loss: 3.1773 - val_mean_absolute_error: 3.1773\n",
      "Epoch 113/500\n",
      "1456781/1456781 [==============================] - 3s 2us/step - loss: 3.1024 - mean_absolute_error: 3.1024 - val_loss: 3.0294 - val_mean_absolute_error: 3.0294\n",
      "Epoch 114/500\n",
      "1456781/1456781 [==============================] - 3s 2us/step - loss: 3.1254 - mean_absolute_error: 3.1254 - val_loss: 3.0680 - val_mean_absolute_error: 3.0680\n",
      "Epoch 115/500\n",
      "1456781/1456781 [==============================] - 3s 2us/step - loss: 3.0824 - mean_absolute_error: 3.0824 - val_loss: 3.1818 - val_mean_absolute_error: 3.1818\n",
      "Epoch 116/500\n",
      "1456781/1456781 [==============================] - 3s 2us/step - loss: 3.0944 - mean_absolute_error: 3.0944 - val_loss: 2.9967 - val_mean_absolute_error: 2.9967\n",
      "Epoch 117/500\n",
      "1456781/1456781 [==============================] - 3s 2us/step - loss: 3.0775 - mean_absolute_error: 3.0775 - val_loss: 3.1704 - val_mean_absolute_error: 3.1704\n",
      "Epoch 118/500\n",
      "1456781/1456781 [==============================] - 3s 2us/step - loss: 3.0474 - mean_absolute_error: 3.0474 - val_loss: 3.1535 - val_mean_absolute_error: 3.1535\n",
      "Epoch 119/500\n",
      "1456781/1456781 [==============================] - 3s 2us/step - loss: 3.0723 - mean_absolute_error: 3.0723 - val_loss: 3.4230 - val_mean_absolute_error: 3.4230\n",
      "Epoch 120/500\n",
      "1456781/1456781 [==============================] - 3s 2us/step - loss: 3.0279 - mean_absolute_error: 3.0279 - val_loss: 2.9248 - val_mean_absolute_error: 2.9248\n",
      "Epoch 121/500\n",
      "1456781/1456781 [==============================] - 3s 2us/step - loss: 3.0480 - mean_absolute_error: 3.0480 - val_loss: 2.9344 - val_mean_absolute_error: 2.9344\n",
      "Epoch 122/500\n",
      "1456781/1456781 [==============================] - 3s 2us/step - loss: 3.0037 - mean_absolute_error: 3.0037 - val_loss: 3.1442 - val_mean_absolute_error: 3.1442\n",
      "Epoch 123/500\n",
      "1456781/1456781 [==============================] - 3s 2us/step - loss: 3.0007 - mean_absolute_error: 3.0007 - val_loss: 2.9331 - val_mean_absolute_error: 2.9331\n",
      "Epoch 124/500\n",
      "1456781/1456781 [==============================] - 3s 2us/step - loss: 2.9807 - mean_absolute_error: 2.9807 - val_loss: 2.9655 - val_mean_absolute_error: 2.9655\n",
      "Epoch 125/500\n",
      "1456781/1456781 [==============================] - 3s 2us/step - loss: 2.9653 - mean_absolute_error: 2.9653 - val_loss: 3.1588 - val_mean_absolute_error: 3.1588\n",
      "Epoch 126/500\n",
      "1456781/1456781 [==============================] - 3s 2us/step - loss: 3.0092 - mean_absolute_error: 3.0092 - val_loss: 3.0615 - val_mean_absolute_error: 3.0615\n",
      "Epoch 127/500\n",
      "1456781/1456781 [==============================] - 3s 2us/step - loss: 2.9884 - mean_absolute_error: 2.9884 - val_loss: 2.9859 - val_mean_absolute_error: 2.9859\n",
      "Epoch 128/500\n",
      "1456781/1456781 [==============================] - 3s 2us/step - loss: 2.9717 - mean_absolute_error: 2.9717 - val_loss: 3.1680 - val_mean_absolute_error: 3.1680\n",
      "Epoch 129/500\n",
      "1456781/1456781 [==============================] - 3s 2us/step - loss: 2.9459 - mean_absolute_error: 2.9459 - val_loss: 2.8418 - val_mean_absolute_error: 2.8418\n",
      "Epoch 130/500\n",
      "1456781/1456781 [==============================] - 3s 2us/step - loss: 2.9231 - mean_absolute_error: 2.9231 - val_loss: 2.9267 - val_mean_absolute_error: 2.9267\n",
      "Epoch 131/500\n",
      "1456781/1456781 [==============================] - 3s 2us/step - loss: 2.9445 - mean_absolute_error: 2.9445 - val_loss: 2.8943 - val_mean_absolute_error: 2.8943\n",
      "Epoch 132/500\n",
      "1456781/1456781 [==============================] - 3s 2us/step - loss: 2.9601 - mean_absolute_error: 2.9601 - val_loss: 2.8512 - val_mean_absolute_error: 2.8512\n",
      "Epoch 133/500\n",
      "1456781/1456781 [==============================] - 3s 2us/step - loss: 2.9387 - mean_absolute_error: 2.9387 - val_loss: 3.3992 - val_mean_absolute_error: 3.3992\n",
      "Epoch 134/500\n",
      "1456781/1456781 [==============================] - 3s 2us/step - loss: 2.9035 - mean_absolute_error: 2.9035 - val_loss: 2.8241 - val_mean_absolute_error: 2.8241\n",
      "Epoch 135/500\n",
      "1456781/1456781 [==============================] - 3s 2us/step - loss: 2.8932 - mean_absolute_error: 2.8932 - val_loss: 2.8929 - val_mean_absolute_error: 2.8929\n",
      "Epoch 136/500\n",
      "1456781/1456781 [==============================] - 3s 2us/step - loss: 2.9099 - mean_absolute_error: 2.9099 - val_loss: 2.9066 - val_mean_absolute_error: 2.9066\n",
      "Epoch 137/500\n",
      "1456781/1456781 [==============================] - 3s 2us/step - loss: 2.8631 - mean_absolute_error: 2.8631 - val_loss: 2.8306 - val_mean_absolute_error: 2.8306\n",
      "Epoch 138/500\n",
      "1456781/1456781 [==============================] - 3s 2us/step - loss: 2.9098 - mean_absolute_error: 2.9098 - val_loss: 3.0216 - val_mean_absolute_error: 3.0216\n",
      "Epoch 139/500\n",
      "1456781/1456781 [==============================] - 3s 2us/step - loss: 2.8599 - mean_absolute_error: 2.8599 - val_loss: 2.7508 - val_mean_absolute_error: 2.7508\n"
     ]
    },
    {
     "name": "stdout",
     "output_type": "stream",
     "text": [
      "Epoch 140/500\n",
      "1456781/1456781 [==============================] - 3s 2us/step - loss: 2.8717 - mean_absolute_error: 2.8717 - val_loss: 2.9223 - val_mean_absolute_error: 2.9223\n",
      "Epoch 141/500\n",
      "1456781/1456781 [==============================] - 3s 2us/step - loss: 2.7977 - mean_absolute_error: 2.7977 - val_loss: 2.9172 - val_mean_absolute_error: 2.9172\n",
      "Epoch 142/500\n",
      "1456781/1456781 [==============================] - 3s 2us/step - loss: 2.8479 - mean_absolute_error: 2.8479 - val_loss: 2.7979 - val_mean_absolute_error: 2.7979\n",
      "Epoch 143/500\n",
      "1456781/1456781 [==============================] - 3s 2us/step - loss: 2.8375 - mean_absolute_error: 2.8375 - val_loss: 2.7264 - val_mean_absolute_error: 2.7264\n",
      "Epoch 144/500\n",
      "1456781/1456781 [==============================] - 3s 2us/step - loss: 2.8425 - mean_absolute_error: 2.8425 - val_loss: 2.7763 - val_mean_absolute_error: 2.7763\n",
      "Epoch 145/500\n",
      "1456781/1456781 [==============================] - 3s 2us/step - loss: 2.8370 - mean_absolute_error: 2.8370 - val_loss: 2.7106 - val_mean_absolute_error: 2.7106\n",
      "Epoch 146/500\n",
      "1456781/1456781 [==============================] - 3s 2us/step - loss: 2.7903 - mean_absolute_error: 2.7903 - val_loss: 2.6295 - val_mean_absolute_error: 2.6295\n",
      "Epoch 147/500\n",
      "1456781/1456781 [==============================] - 3s 2us/step - loss: 2.8117 - mean_absolute_error: 2.8117 - val_loss: 2.8092 - val_mean_absolute_error: 2.8092\n",
      "Epoch 148/500\n",
      "1456781/1456781 [==============================] - 3s 2us/step - loss: 2.7831 - mean_absolute_error: 2.7831 - val_loss: 2.6755 - val_mean_absolute_error: 2.6755\n",
      "Epoch 149/500\n",
      "1456781/1456781 [==============================] - 3s 2us/step - loss: 2.7954 - mean_absolute_error: 2.7954 - val_loss: 2.9921 - val_mean_absolute_error: 2.9921\n",
      "Epoch 150/500\n",
      "1456781/1456781 [==============================] - 3s 2us/step - loss: 2.7646 - mean_absolute_error: 2.7646 - val_loss: 2.7445 - val_mean_absolute_error: 2.7445\n",
      "Epoch 151/500\n",
      "1456781/1456781 [==============================] - 3s 2us/step - loss: 2.7846 - mean_absolute_error: 2.7846 - val_loss: 2.8590 - val_mean_absolute_error: 2.8590\n",
      "Epoch 152/500\n",
      "1456781/1456781 [==============================] - 3s 2us/step - loss: 2.7461 - mean_absolute_error: 2.7461 - val_loss: 2.6926 - val_mean_absolute_error: 2.6926\n",
      "Epoch 153/500\n",
      "1456781/1456781 [==============================] - 3s 2us/step - loss: 2.7608 - mean_absolute_error: 2.7608 - val_loss: 2.6060 - val_mean_absolute_error: 2.6060\n",
      "Epoch 154/500\n",
      "1456781/1456781 [==============================] - 3s 2us/step - loss: 2.7143 - mean_absolute_error: 2.7143 - val_loss: 2.7045 - val_mean_absolute_error: 2.7045\n",
      "Epoch 155/500\n",
      "1456781/1456781 [==============================] - 3s 2us/step - loss: 2.7401 - mean_absolute_error: 2.7401 - val_loss: 2.8285 - val_mean_absolute_error: 2.8285\n",
      "Epoch 156/500\n",
      "1456781/1456781 [==============================] - 3s 2us/step - loss: 2.7370 - mean_absolute_error: 2.7370 - val_loss: 2.8109 - val_mean_absolute_error: 2.8109\n",
      "Epoch 157/500\n",
      "1456781/1456781 [==============================] - 3s 2us/step - loss: 2.7282 - mean_absolute_error: 2.7282 - val_loss: 2.7403 - val_mean_absolute_error: 2.7403\n",
      "Epoch 158/500\n",
      "1456781/1456781 [==============================] - 3s 2us/step - loss: 2.7132 - mean_absolute_error: 2.7132 - val_loss: 2.7002 - val_mean_absolute_error: 2.7002\n",
      "Epoch 159/500\n",
      "1456781/1456781 [==============================] - 3s 2us/step - loss: 2.6726 - mean_absolute_error: 2.6726 - val_loss: 2.8697 - val_mean_absolute_error: 2.8697\n",
      "Epoch 160/500\n",
      "1456781/1456781 [==============================] - 3s 2us/step - loss: 2.6791 - mean_absolute_error: 2.6791 - val_loss: 3.2508 - val_mean_absolute_error: 3.2508\n",
      "Epoch 161/500\n",
      "1456781/1456781 [==============================] - 3s 2us/step - loss: 2.7093 - mean_absolute_error: 2.7093 - val_loss: 2.5980 - val_mean_absolute_error: 2.5980\n",
      "Epoch 162/500\n",
      "1456781/1456781 [==============================] - 3s 2us/step - loss: 2.7001 - mean_absolute_error: 2.7001 - val_loss: 2.5493 - val_mean_absolute_error: 2.5493\n",
      "Epoch 163/500\n",
      "1456781/1456781 [==============================] - 3s 2us/step - loss: 2.6794 - mean_absolute_error: 2.6794 - val_loss: 2.6606 - val_mean_absolute_error: 2.6606\n",
      "Epoch 164/500\n",
      "1456781/1456781 [==============================] - 3s 2us/step - loss: 2.7388 - mean_absolute_error: 2.7388 - val_loss: 2.5971 - val_mean_absolute_error: 2.5971\n",
      "Epoch 165/500\n",
      "1456781/1456781 [==============================] - 3s 2us/step - loss: 2.6275 - mean_absolute_error: 2.6275 - val_loss: 2.7851 - val_mean_absolute_error: 2.7851\n",
      "Epoch 166/500\n",
      "1456781/1456781 [==============================] - 3s 2us/step - loss: 2.6808 - mean_absolute_error: 2.6808 - val_loss: 2.9630 - val_mean_absolute_error: 2.9630\n",
      "Epoch 167/500\n",
      "1456781/1456781 [==============================] - 3s 2us/step - loss: 2.6674 - mean_absolute_error: 2.6674 - val_loss: 2.8826 - val_mean_absolute_error: 2.8826\n",
      "Epoch 168/500\n",
      "1456781/1456781 [==============================] - 3s 2us/step - loss: 2.6270 - mean_absolute_error: 2.6270 - val_loss: 3.0154 - val_mean_absolute_error: 3.0154\n",
      "Epoch 169/500\n",
      "1456781/1456781 [==============================] - 3s 2us/step - loss: 2.6583 - mean_absolute_error: 2.6583 - val_loss: 2.5734 - val_mean_absolute_error: 2.5734\n",
      "Epoch 170/500\n",
      "1456781/1456781 [==============================] - 3s 2us/step - loss: 2.6137 - mean_absolute_error: 2.6137 - val_loss: 2.5413 - val_mean_absolute_error: 2.5413\n",
      "Epoch 171/500\n",
      "1456781/1456781 [==============================] - 3s 2us/step - loss: 2.6093 - mean_absolute_error: 2.6093 - val_loss: 2.6188 - val_mean_absolute_error: 2.6188\n",
      "Epoch 172/500\n",
      "1456781/1456781 [==============================] - 3s 2us/step - loss: 2.6435 - mean_absolute_error: 2.6435 - val_loss: 2.7767 - val_mean_absolute_error: 2.7767\n",
      "Epoch 173/500\n",
      "1456781/1456781 [==============================] - 3s 2us/step - loss: 2.6098 - mean_absolute_error: 2.6098 - val_loss: 2.5851 - val_mean_absolute_error: 2.5851\n",
      "Epoch 174/500\n",
      "1456781/1456781 [==============================] - 3s 2us/step - loss: 2.6161 - mean_absolute_error: 2.6161 - val_loss: 2.9085 - val_mean_absolute_error: 2.9085\n",
      "Epoch 175/500\n",
      "1456781/1456781 [==============================] - 3s 2us/step - loss: 2.6295 - mean_absolute_error: 2.6295 - val_loss: 2.7328 - val_mean_absolute_error: 2.7328\n",
      "Epoch 176/500\n",
      "1456781/1456781 [==============================] - 3s 2us/step - loss: 2.5940 - mean_absolute_error: 2.5940 - val_loss: 2.6285 - val_mean_absolute_error: 2.6285\n",
      "Epoch 177/500\n",
      "1456781/1456781 [==============================] - 3s 2us/step - loss: 2.5919 - mean_absolute_error: 2.5919 - val_loss: 2.5710 - val_mean_absolute_error: 2.5710\n",
      "Epoch 178/500\n",
      "1456781/1456781 [==============================] - 3s 2us/step - loss: 2.5742 - mean_absolute_error: 2.5742 - val_loss: 2.5640 - val_mean_absolute_error: 2.5640\n",
      "Epoch 179/500\n",
      "1456781/1456781 [==============================] - 3s 2us/step - loss: 2.5943 - mean_absolute_error: 2.5943 - val_loss: 2.4564 - val_mean_absolute_error: 2.4564\n",
      "Epoch 180/500\n",
      "1456781/1456781 [==============================] - 3s 2us/step - loss: 2.5776 - mean_absolute_error: 2.5776 - val_loss: 2.5951 - val_mean_absolute_error: 2.5951\n",
      "Epoch 181/500\n",
      "1456781/1456781 [==============================] - 3s 2us/step - loss: 2.5832 - mean_absolute_error: 2.5832 - val_loss: 2.4878 - val_mean_absolute_error: 2.4878\n",
      "Epoch 182/500\n",
      "1456781/1456781 [==============================] - 3s 2us/step - loss: 2.5596 - mean_absolute_error: 2.5596 - val_loss: 2.5448 - val_mean_absolute_error: 2.5448\n",
      "Epoch 183/500\n",
      "1456781/1456781 [==============================] - 3s 2us/step - loss: 2.5824 - mean_absolute_error: 2.5824 - val_loss: 2.5200 - val_mean_absolute_error: 2.5200\n",
      "Epoch 184/500\n",
      "1456781/1456781 [==============================] - 3s 2us/step - loss: 2.5311 - mean_absolute_error: 2.5311 - val_loss: 2.6594 - val_mean_absolute_error: 2.6594\n",
      "Epoch 185/500\n",
      "1456781/1456781 [==============================] - 3s 2us/step - loss: 2.5700 - mean_absolute_error: 2.5700 - val_loss: 2.5241 - val_mean_absolute_error: 2.5241\n",
      "Epoch 186/500\n",
      "1456781/1456781 [==============================] - 3s 2us/step - loss: 2.5391 - mean_absolute_error: 2.5391 - val_loss: 2.6019 - val_mean_absolute_error: 2.6019\n"
     ]
    },
    {
     "name": "stdout",
     "output_type": "stream",
     "text": [
      "Epoch 187/500\n",
      "1456781/1456781 [==============================] - 3s 2us/step - loss: 2.5151 - mean_absolute_error: 2.5151 - val_loss: 2.5485 - val_mean_absolute_error: 2.5485\n",
      "Epoch 188/500\n",
      "1456781/1456781 [==============================] - 3s 2us/step - loss: 2.5889 - mean_absolute_error: 2.5889 - val_loss: 2.7246 - val_mean_absolute_error: 2.7246\n",
      "Epoch 189/500\n",
      "1456781/1456781 [==============================] - 3s 2us/step - loss: 2.5046 - mean_absolute_error: 2.5046 - val_loss: 2.3825 - val_mean_absolute_error: 2.3825\n",
      "Epoch 190/500\n",
      "1456781/1456781 [==============================] - 3s 2us/step - loss: 2.5227 - mean_absolute_error: 2.5227 - val_loss: 2.7572 - val_mean_absolute_error: 2.7572\n",
      "Epoch 191/500\n",
      "1456781/1456781 [==============================] - 3s 2us/step - loss: 2.5257 - mean_absolute_error: 2.5257 - val_loss: 2.5466 - val_mean_absolute_error: 2.5466\n",
      "Epoch 192/500\n",
      "1456781/1456781 [==============================] - 3s 2us/step - loss: 2.5289 - mean_absolute_error: 2.5289 - val_loss: 2.5577 - val_mean_absolute_error: 2.5577\n",
      "Epoch 193/500\n",
      "1456781/1456781 [==============================] - 3s 2us/step - loss: 2.5237 - mean_absolute_error: 2.5237 - val_loss: 2.8947 - val_mean_absolute_error: 2.8947\n",
      "Epoch 194/500\n",
      "1456781/1456781 [==============================] - 3s 2us/step - loss: 2.5144 - mean_absolute_error: 2.5144 - val_loss: 2.4926 - val_mean_absolute_error: 2.4926\n",
      "Epoch 195/500\n",
      "1456781/1456781 [==============================] - 3s 2us/step - loss: 2.4948 - mean_absolute_error: 2.4948 - val_loss: 2.5023 - val_mean_absolute_error: 2.5023\n",
      "Epoch 196/500\n",
      "1456781/1456781 [==============================] - 3s 2us/step - loss: 2.4882 - mean_absolute_error: 2.4882 - val_loss: 2.5172 - val_mean_absolute_error: 2.5172\n",
      "Epoch 197/500\n",
      "1456781/1456781 [==============================] - 3s 2us/step - loss: 2.4744 - mean_absolute_error: 2.4744 - val_loss: 2.6717 - val_mean_absolute_error: 2.6717\n",
      "Epoch 198/500\n",
      "1456781/1456781 [==============================] - 3s 2us/step - loss: 2.4580 - mean_absolute_error: 2.4580 - val_loss: 2.8998 - val_mean_absolute_error: 2.8998\n",
      "Epoch 199/500\n",
      "1456781/1456781 [==============================] - 3s 2us/step - loss: 2.4934 - mean_absolute_error: 2.4934 - val_loss: 2.3624 - val_mean_absolute_error: 2.3624\n",
      "Epoch 200/500\n",
      "1456781/1456781 [==============================] - 3s 2us/step - loss: 2.4831 - mean_absolute_error: 2.4831 - val_loss: 2.4026 - val_mean_absolute_error: 2.4026\n",
      "Epoch 201/500\n",
      "1456781/1456781 [==============================] - 3s 2us/step - loss: 2.4676 - mean_absolute_error: 2.4676 - val_loss: 2.5576 - val_mean_absolute_error: 2.5576\n",
      "Epoch 202/500\n",
      "1456781/1456781 [==============================] - 3s 2us/step - loss: 2.4842 - mean_absolute_error: 2.4842 - val_loss: 2.5193 - val_mean_absolute_error: 2.5193\n",
      "Epoch 203/500\n",
      "1456781/1456781 [==============================] - 3s 2us/step - loss: 2.5050 - mean_absolute_error: 2.5050 - val_loss: 2.4498 - val_mean_absolute_error: 2.4498\n",
      "Epoch 204/500\n",
      "1456781/1456781 [==============================] - 3s 2us/step - loss: 2.4476 - mean_absolute_error: 2.4476 - val_loss: 2.6003 - val_mean_absolute_error: 2.6003\n",
      "Epoch 205/500\n",
      "1456781/1456781 [==============================] - 3s 2us/step - loss: 2.4795 - mean_absolute_error: 2.4795 - val_loss: 2.7408 - val_mean_absolute_error: 2.7408\n",
      "Epoch 206/500\n",
      "1456781/1456781 [==============================] - 3s 2us/step - loss: 2.4742 - mean_absolute_error: 2.4742 - val_loss: 2.2994 - val_mean_absolute_error: 2.2994\n",
      "Epoch 207/500\n",
      "1456781/1456781 [==============================] - 3s 2us/step - loss: 2.4721 - mean_absolute_error: 2.4721 - val_loss: 2.7473 - val_mean_absolute_error: 2.7473\n",
      "Epoch 208/500\n",
      "1456781/1456781 [==============================] - 3s 2us/step - loss: 2.4334 - mean_absolute_error: 2.4334 - val_loss: 2.3574 - val_mean_absolute_error: 2.3574\n",
      "Epoch 209/500\n",
      "1456781/1456781 [==============================] - 3s 2us/step - loss: 2.4723 - mean_absolute_error: 2.4723 - val_loss: 2.4865 - val_mean_absolute_error: 2.4865\n",
      "Epoch 210/500\n",
      "1456781/1456781 [==============================] - 3s 2us/step - loss: 2.4229 - mean_absolute_error: 2.4229 - val_loss: 2.3235 - val_mean_absolute_error: 2.3235\n",
      "Epoch 211/500\n",
      "1456781/1456781 [==============================] - 3s 2us/step - loss: 2.4944 - mean_absolute_error: 2.4944 - val_loss: 2.4095 - val_mean_absolute_error: 2.4095\n",
      "Epoch 212/500\n",
      "1456781/1456781 [==============================] - 3s 2us/step - loss: 2.4352 - mean_absolute_error: 2.4352 - val_loss: 2.4241 - val_mean_absolute_error: 2.4241\n",
      "Epoch 213/500\n",
      "1456781/1456781 [==============================] - 3s 2us/step - loss: 2.4058 - mean_absolute_error: 2.4058 - val_loss: 2.4003 - val_mean_absolute_error: 2.4003\n",
      "Epoch 214/500\n",
      "1456781/1456781 [==============================] - 3s 2us/step - loss: 2.4524 - mean_absolute_error: 2.4524 - val_loss: 2.4928 - val_mean_absolute_error: 2.4928\n",
      "Epoch 215/500\n",
      "1456781/1456781 [==============================] - 3s 2us/step - loss: 2.4211 - mean_absolute_error: 2.4211 - val_loss: 2.5596 - val_mean_absolute_error: 2.5596\n",
      "Epoch 216/500\n",
      "1456781/1456781 [==============================] - 3s 2us/step - loss: 2.3997 - mean_absolute_error: 2.3997 - val_loss: 2.6118 - val_mean_absolute_error: 2.6118\n",
      "Epoch 217/500\n",
      "1456781/1456781 [==============================] - 3s 2us/step - loss: 2.4477 - mean_absolute_error: 2.4477 - val_loss: 2.4288 - val_mean_absolute_error: 2.4288\n",
      "Epoch 218/500\n",
      "1456781/1456781 [==============================] - 3s 2us/step - loss: 2.3851 - mean_absolute_error: 2.3851 - val_loss: 2.5003 - val_mean_absolute_error: 2.5003\n",
      "Epoch 219/500\n",
      "1456781/1456781 [==============================] - 3s 2us/step - loss: 2.3618 - mean_absolute_error: 2.3618 - val_loss: 2.4235 - val_mean_absolute_error: 2.4235\n",
      "Epoch 220/500\n",
      "1456781/1456781 [==============================] - 3s 2us/step - loss: 2.4128 - mean_absolute_error: 2.4128 - val_loss: 2.3963 - val_mean_absolute_error: 2.3963\n",
      "Epoch 221/500\n",
      "1456781/1456781 [==============================] - 3s 2us/step - loss: 2.3744 - mean_absolute_error: 2.3744 - val_loss: 2.5483 - val_mean_absolute_error: 2.5483\n",
      "Epoch 222/500\n",
      "1456781/1456781 [==============================] - 3s 2us/step - loss: 2.3886 - mean_absolute_error: 2.3886 - val_loss: 2.4503 - val_mean_absolute_error: 2.4503\n",
      "Epoch 223/500\n",
      "1456781/1456781 [==============================] - 3s 2us/step - loss: 2.4136 - mean_absolute_error: 2.4136 - val_loss: 2.7751 - val_mean_absolute_error: 2.7751\n",
      "Epoch 224/500\n",
      "1456781/1456781 [==============================] - 3s 2us/step - loss: 2.3668 - mean_absolute_error: 2.3668 - val_loss: 2.2241 - val_mean_absolute_error: 2.2241\n",
      "Epoch 225/500\n",
      "1456781/1456781 [==============================] - 3s 2us/step - loss: 2.4033 - mean_absolute_error: 2.4033 - val_loss: 2.2188 - val_mean_absolute_error: 2.2188\n",
      "Epoch 226/500\n",
      "1456781/1456781 [==============================] - 3s 2us/step - loss: 2.3424 - mean_absolute_error: 2.3424 - val_loss: 2.1973 - val_mean_absolute_error: 2.1973\n",
      "Epoch 227/500\n",
      "1456781/1456781 [==============================] - 3s 2us/step - loss: 2.3792 - mean_absolute_error: 2.3792 - val_loss: 2.4216 - val_mean_absolute_error: 2.4216\n",
      "Epoch 228/500\n",
      "1456781/1456781 [==============================] - 3s 2us/step - loss: 2.3711 - mean_absolute_error: 2.3711 - val_loss: 2.8681 - val_mean_absolute_error: 2.8681\n",
      "Epoch 229/500\n",
      "1456781/1456781 [==============================] - 3s 2us/step - loss: 2.3786 - mean_absolute_error: 2.3786 - val_loss: 2.3103 - val_mean_absolute_error: 2.3103\n",
      "Epoch 230/500\n",
      "1456781/1456781 [==============================] - 3s 2us/step - loss: 2.3761 - mean_absolute_error: 2.3761 - val_loss: 2.7299 - val_mean_absolute_error: 2.7299\n",
      "Epoch 231/500\n",
      "1456781/1456781 [==============================] - 3s 2us/step - loss: 2.3576 - mean_absolute_error: 2.3576 - val_loss: 2.3681 - val_mean_absolute_error: 2.3681\n",
      "Epoch 232/500\n",
      "1456781/1456781 [==============================] - 3s 2us/step - loss: 2.3328 - mean_absolute_error: 2.3328 - val_loss: 2.3576 - val_mean_absolute_error: 2.3576\n",
      "Epoch 233/500\n",
      "1456781/1456781 [==============================] - 3s 2us/step - loss: 2.3445 - mean_absolute_error: 2.3445 - val_loss: 2.9658 - val_mean_absolute_error: 2.9658\n"
     ]
    },
    {
     "name": "stdout",
     "output_type": "stream",
     "text": [
      "Epoch 234/500\n",
      "1456781/1456781 [==============================] - 3s 2us/step - loss: 2.3102 - mean_absolute_error: 2.3102 - val_loss: 2.4032 - val_mean_absolute_error: 2.4032\n",
      "Epoch 235/500\n",
      "1456781/1456781 [==============================] - 3s 2us/step - loss: 2.4076 - mean_absolute_error: 2.4076 - val_loss: 2.4242 - val_mean_absolute_error: 2.4242\n",
      "Epoch 236/500\n",
      "1456781/1456781 [==============================] - 3s 2us/step - loss: 2.3369 - mean_absolute_error: 2.3369 - val_loss: 2.3415 - val_mean_absolute_error: 2.3415\n",
      "Epoch 237/500\n",
      "1456781/1456781 [==============================] - 3s 2us/step - loss: 2.3314 - mean_absolute_error: 2.3314 - val_loss: 2.3725 - val_mean_absolute_error: 2.3725\n",
      "Epoch 238/500\n",
      "1456781/1456781 [==============================] - 3s 2us/step - loss: 2.3781 - mean_absolute_error: 2.3781 - val_loss: 2.2046 - val_mean_absolute_error: 2.2046\n",
      "Epoch 239/500\n",
      "1456781/1456781 [==============================] - 3s 2us/step - loss: 2.2986 - mean_absolute_error: 2.2986 - val_loss: 2.4409 - val_mean_absolute_error: 2.4409\n",
      "Epoch 240/500\n",
      "1456781/1456781 [==============================] - 3s 2us/step - loss: 2.3122 - mean_absolute_error: 2.3122 - val_loss: 2.5814 - val_mean_absolute_error: 2.5814\n",
      "Epoch 241/500\n",
      "1456781/1456781 [==============================] - 3s 2us/step - loss: 2.3273 - mean_absolute_error: 2.3273 - val_loss: 2.5031 - val_mean_absolute_error: 2.5031\n",
      "Epoch 242/500\n",
      "1456781/1456781 [==============================] - 3s 2us/step - loss: 2.3289 - mean_absolute_error: 2.3289 - val_loss: 2.3658 - val_mean_absolute_error: 2.3658\n",
      "Epoch 243/500\n",
      "1456781/1456781 [==============================] - 3s 2us/step - loss: 2.2925 - mean_absolute_error: 2.2925 - val_loss: 2.4348 - val_mean_absolute_error: 2.4348\n",
      "Epoch 244/500\n",
      "1456781/1456781 [==============================] - 3s 2us/step - loss: 2.3381 - mean_absolute_error: 2.3381 - val_loss: 2.4133 - val_mean_absolute_error: 2.4133\n",
      "Epoch 245/500\n",
      "1456781/1456781 [==============================] - 3s 2us/step - loss: 2.2599 - mean_absolute_error: 2.2599 - val_loss: 2.2527 - val_mean_absolute_error: 2.2527\n",
      "Epoch 246/500\n",
      "1456781/1456781 [==============================] - 3s 2us/step - loss: 2.3094 - mean_absolute_error: 2.3094 - val_loss: 2.6101 - val_mean_absolute_error: 2.6101\n",
      "Epoch 247/500\n",
      "1456781/1456781 [==============================] - 3s 2us/step - loss: 2.3358 - mean_absolute_error: 2.3358 - val_loss: 2.3387 - val_mean_absolute_error: 2.3387\n",
      "Epoch 248/500\n",
      "1456781/1456781 [==============================] - 3s 2us/step - loss: 2.2992 - mean_absolute_error: 2.2992 - val_loss: 2.2407 - val_mean_absolute_error: 2.2407\n",
      "Epoch 249/500\n",
      "1456781/1456781 [==============================] - 3s 2us/step - loss: 2.3073 - mean_absolute_error: 2.3073 - val_loss: 2.4287 - val_mean_absolute_error: 2.4287\n",
      "Epoch 250/500\n",
      "1456781/1456781 [==============================] - 3s 2us/step - loss: 2.2510 - mean_absolute_error: 2.2510 - val_loss: 2.2045 - val_mean_absolute_error: 2.2045\n",
      "Epoch 251/500\n",
      "1456781/1456781 [==============================] - 3s 2us/step - loss: 2.2957 - mean_absolute_error: 2.2957 - val_loss: 2.4125 - val_mean_absolute_error: 2.4125\n",
      "Epoch 252/500\n",
      "1456781/1456781 [==============================] - 3s 2us/step - loss: 2.2825 - mean_absolute_error: 2.2825 - val_loss: 2.2407 - val_mean_absolute_error: 2.2407\n",
      "Epoch 253/500\n",
      "1456781/1456781 [==============================] - 3s 2us/step - loss: 2.2790 - mean_absolute_error: 2.2790 - val_loss: 2.5182 - val_mean_absolute_error: 2.5182\n",
      "Epoch 254/500\n",
      "1456781/1456781 [==============================] - 3s 2us/step - loss: 2.2861 - mean_absolute_error: 2.2861 - val_loss: 2.5564 - val_mean_absolute_error: 2.5564\n",
      "Epoch 255/500\n",
      "1456781/1456781 [==============================] - 3s 2us/step - loss: 2.2542 - mean_absolute_error: 2.2542 - val_loss: 2.6199 - val_mean_absolute_error: 2.6199\n",
      "Epoch 256/500\n",
      "1456781/1456781 [==============================] - 3s 2us/step - loss: 2.2922 - mean_absolute_error: 2.2922 - val_loss: 2.2770 - val_mean_absolute_error: 2.2770\n",
      "Epoch 257/500\n",
      "1456781/1456781 [==============================] - 3s 2us/step - loss: 2.2818 - mean_absolute_error: 2.2818 - val_loss: 2.2946 - val_mean_absolute_error: 2.2946\n",
      "Epoch 258/500\n",
      "1456781/1456781 [==============================] - 3s 2us/step - loss: 2.2397 - mean_absolute_error: 2.2397 - val_loss: 2.1594 - val_mean_absolute_error: 2.1594\n",
      "Epoch 259/500\n",
      "1456781/1456781 [==============================] - 3s 2us/step - loss: 2.2571 - mean_absolute_error: 2.2571 - val_loss: 2.3154 - val_mean_absolute_error: 2.3154\n",
      "Epoch 260/500\n",
      "1456781/1456781 [==============================] - 3s 2us/step - loss: 2.2647 - mean_absolute_error: 2.2647 - val_loss: 2.3138 - val_mean_absolute_error: 2.3138\n",
      "Epoch 261/500\n",
      "1456781/1456781 [==============================] - 3s 2us/step - loss: 2.3032 - mean_absolute_error: 2.3032 - val_loss: 2.1434 - val_mean_absolute_error: 2.1434\n",
      "Epoch 262/500\n",
      "1456781/1456781 [==============================] - 3s 2us/step - loss: 2.2433 - mean_absolute_error: 2.2433 - val_loss: 2.2893 - val_mean_absolute_error: 2.2893\n",
      "Epoch 263/500\n",
      "1456781/1456781 [==============================] - 3s 2us/step - loss: 2.2937 - mean_absolute_error: 2.2937 - val_loss: 2.0659 - val_mean_absolute_error: 2.0659\n",
      "Epoch 264/500\n",
      "1456781/1456781 [==============================] - 3s 2us/step - loss: 2.2459 - mean_absolute_error: 2.2459 - val_loss: 2.1671 - val_mean_absolute_error: 2.1671\n",
      "Epoch 265/500\n",
      "1456781/1456781 [==============================] - 3s 2us/step - loss: 2.2249 - mean_absolute_error: 2.2249 - val_loss: 2.1698 - val_mean_absolute_error: 2.1698\n",
      "Epoch 266/500\n",
      "1456781/1456781 [==============================] - 3s 2us/step - loss: 2.2411 - mean_absolute_error: 2.2411 - val_loss: 2.2761 - val_mean_absolute_error: 2.2761\n",
      "Epoch 267/500\n",
      "1456781/1456781 [==============================] - 3s 2us/step - loss: 2.2533 - mean_absolute_error: 2.2533 - val_loss: 2.5504 - val_mean_absolute_error: 2.5504\n",
      "Epoch 268/500\n",
      "1456781/1456781 [==============================] - 3s 2us/step - loss: 2.2771 - mean_absolute_error: 2.2771 - val_loss: 2.2438 - val_mean_absolute_error: 2.2438\n",
      "Epoch 269/500\n",
      "1456781/1456781 [==============================] - 3s 2us/step - loss: 2.2071 - mean_absolute_error: 2.2071 - val_loss: 2.4146 - val_mean_absolute_error: 2.4146\n",
      "Epoch 270/500\n",
      "1456781/1456781 [==============================] - 3s 2us/step - loss: 2.2371 - mean_absolute_error: 2.2371 - val_loss: 2.2286 - val_mean_absolute_error: 2.2286\n",
      "Epoch 271/500\n",
      "1456781/1456781 [==============================] - 3s 2us/step - loss: 2.2086 - mean_absolute_error: 2.2086 - val_loss: 2.3651 - val_mean_absolute_error: 2.3651\n",
      "Epoch 272/500\n",
      "1456781/1456781 [==============================] - 3s 2us/step - loss: 2.2058 - mean_absolute_error: 2.2058 - val_loss: 2.4940 - val_mean_absolute_error: 2.4940\n",
      "Epoch 273/500\n",
      "1456781/1456781 [==============================] - 3s 2us/step - loss: 2.2904 - mean_absolute_error: 2.2904 - val_loss: 2.2738 - val_mean_absolute_error: 2.2738\n",
      "Epoch 274/500\n",
      "1456781/1456781 [==============================] - 3s 2us/step - loss: 2.2032 - mean_absolute_error: 2.2032 - val_loss: 2.4279 - val_mean_absolute_error: 2.4279\n",
      "Epoch 275/500\n",
      "1456781/1456781 [==============================] - 3s 2us/step - loss: 2.2186 - mean_absolute_error: 2.2186 - val_loss: 2.2107 - val_mean_absolute_error: 2.2107\n",
      "Epoch 276/500\n",
      "1456781/1456781 [==============================] - 3s 2us/step - loss: 2.2517 - mean_absolute_error: 2.2517 - val_loss: 2.1625 - val_mean_absolute_error: 2.1625\n",
      "Epoch 277/500\n",
      "1456781/1456781 [==============================] - 3s 2us/step - loss: 2.2063 - mean_absolute_error: 2.2063 - val_loss: 2.2039 - val_mean_absolute_error: 2.2039\n",
      "Epoch 278/500\n",
      "1456781/1456781 [==============================] - 3s 2us/step - loss: 2.1971 - mean_absolute_error: 2.1971 - val_loss: 2.1488 - val_mean_absolute_error: 2.1488\n",
      "Epoch 279/500\n",
      "1456781/1456781 [==============================] - 3s 2us/step - loss: 2.2302 - mean_absolute_error: 2.2302 - val_loss: 2.1207 - val_mean_absolute_error: 2.1207\n",
      "Epoch 280/500\n",
      "1456781/1456781 [==============================] - 3s 2us/step - loss: 2.2059 - mean_absolute_error: 2.2059 - val_loss: 2.2832 - val_mean_absolute_error: 2.2832\n"
     ]
    },
    {
     "name": "stdout",
     "output_type": "stream",
     "text": [
      "Epoch 281/500\n",
      "1456781/1456781 [==============================] - 3s 2us/step - loss: 2.1839 - mean_absolute_error: 2.1839 - val_loss: 2.2220 - val_mean_absolute_error: 2.2220\n",
      "Epoch 282/500\n",
      "1456781/1456781 [==============================] - 3s 2us/step - loss: 2.1959 - mean_absolute_error: 2.1959 - val_loss: 2.5751 - val_mean_absolute_error: 2.5751\n",
      "Epoch 283/500\n",
      "1456781/1456781 [==============================] - 3s 2us/step - loss: 2.2112 - mean_absolute_error: 2.2112 - val_loss: 2.0511 - val_mean_absolute_error: 2.0511\n",
      "Epoch 284/500\n",
      "1456781/1456781 [==============================] - 3s 2us/step - loss: 2.2133 - mean_absolute_error: 2.2133 - val_loss: 2.1233 - val_mean_absolute_error: 2.1233\n",
      "Epoch 285/500\n",
      "1456781/1456781 [==============================] - 3s 2us/step - loss: 2.1955 - mean_absolute_error: 2.1955 - val_loss: 2.2337 - val_mean_absolute_error: 2.2337\n",
      "Epoch 286/500\n",
      "1456781/1456781 [==============================] - 3s 2us/step - loss: 2.1886 - mean_absolute_error: 2.1886 - val_loss: 2.1011 - val_mean_absolute_error: 2.1011\n",
      "Epoch 287/500\n",
      "1456781/1456781 [==============================] - 3s 2us/step - loss: 2.1837 - mean_absolute_error: 2.1837 - val_loss: 2.1122 - val_mean_absolute_error: 2.1122\n",
      "Epoch 288/500\n",
      "1456781/1456781 [==============================] - 3s 2us/step - loss: 2.1982 - mean_absolute_error: 2.1982 - val_loss: 2.1054 - val_mean_absolute_error: 2.1054\n",
      "Epoch 289/500\n",
      "1456781/1456781 [==============================] - 3s 2us/step - loss: 2.1739 - mean_absolute_error: 2.1739 - val_loss: 2.1023 - val_mean_absolute_error: 2.1023\n",
      "Epoch 290/500\n",
      "1456781/1456781 [==============================] - 3s 2us/step - loss: 2.2015 - mean_absolute_error: 2.2015 - val_loss: 2.1304 - val_mean_absolute_error: 2.1304\n",
      "Epoch 291/500\n",
      "1456781/1456781 [==============================] - 3s 2us/step - loss: 2.2067 - mean_absolute_error: 2.2067 - val_loss: 2.0923 - val_mean_absolute_error: 2.0923\n",
      "Epoch 292/500\n",
      "1456781/1456781 [==============================] - 3s 2us/step - loss: 2.1541 - mean_absolute_error: 2.1541 - val_loss: 1.9896 - val_mean_absolute_error: 1.9896\n",
      "Epoch 293/500\n",
      "1456781/1456781 [==============================] - 3s 2us/step - loss: 2.1628 - mean_absolute_error: 2.1628 - val_loss: 2.1480 - val_mean_absolute_error: 2.1480\n",
      "Epoch 294/500\n",
      "1456781/1456781 [==============================] - 3s 2us/step - loss: 2.1392 - mean_absolute_error: 2.1392 - val_loss: 2.1419 - val_mean_absolute_error: 2.1419\n",
      "Epoch 295/500\n",
      "1456781/1456781 [==============================] - 3s 2us/step - loss: 2.1596 - mean_absolute_error: 2.1596 - val_loss: 2.2584 - val_mean_absolute_error: 2.2584\n",
      "Epoch 296/500\n",
      "1456781/1456781 [==============================] - 3s 2us/step - loss: 2.2035 - mean_absolute_error: 2.2035 - val_loss: 2.2903 - val_mean_absolute_error: 2.2903\n",
      "Epoch 297/500\n",
      "1456781/1456781 [==============================] - 3s 2us/step - loss: 2.1627 - mean_absolute_error: 2.1627 - val_loss: 2.1343 - val_mean_absolute_error: 2.1343\n",
      "Epoch 298/500\n",
      "1456781/1456781 [==============================] - 3s 2us/step - loss: 2.1323 - mean_absolute_error: 2.1323 - val_loss: 2.0725 - val_mean_absolute_error: 2.0725\n",
      "Epoch 299/500\n",
      "1456781/1456781 [==============================] - 3s 2us/step - loss: 2.1784 - mean_absolute_error: 2.1784 - val_loss: 2.2389 - val_mean_absolute_error: 2.2389\n",
      "Epoch 300/500\n",
      "1456781/1456781 [==============================] - 3s 2us/step - loss: 2.1491 - mean_absolute_error: 2.1491 - val_loss: 2.4305 - val_mean_absolute_error: 2.4305\n",
      "Epoch 301/500\n",
      "1456781/1456781 [==============================] - 3s 2us/step - loss: 2.1781 - mean_absolute_error: 2.1781 - val_loss: 2.1872 - val_mean_absolute_error: 2.1872\n",
      "Epoch 302/500\n",
      "1456781/1456781 [==============================] - 3s 2us/step - loss: 2.1635 - mean_absolute_error: 2.1635 - val_loss: 2.2066 - val_mean_absolute_error: 2.2066\n",
      "Epoch 303/500\n",
      "1456781/1456781 [==============================] - 3s 2us/step - loss: 2.1612 - mean_absolute_error: 2.1612 - val_loss: 2.1195 - val_mean_absolute_error: 2.1195\n",
      "Epoch 304/500\n",
      "1456781/1456781 [==============================] - 3s 2us/step - loss: 2.1676 - mean_absolute_error: 2.1676 - val_loss: 2.0795 - val_mean_absolute_error: 2.0795\n",
      "Epoch 305/500\n",
      "1456781/1456781 [==============================] - 3s 2us/step - loss: 2.1397 - mean_absolute_error: 2.1397 - val_loss: 2.1812 - val_mean_absolute_error: 2.1812\n",
      "Epoch 306/500\n",
      "1456781/1456781 [==============================] - 3s 2us/step - loss: 2.1453 - mean_absolute_error: 2.1453 - val_loss: 2.0501 - val_mean_absolute_error: 2.0501\n",
      "Epoch 307/500\n",
      "1456781/1456781 [==============================] - 3s 2us/step - loss: 2.1427 - mean_absolute_error: 2.1427 - val_loss: 2.1783 - val_mean_absolute_error: 2.1783\n",
      "Epoch 308/500\n",
      "1456781/1456781 [==============================] - 3s 2us/step - loss: 2.1692 - mean_absolute_error: 2.1692 - val_loss: 2.1805 - val_mean_absolute_error: 2.1805\n",
      "Epoch 309/500\n",
      "1456781/1456781 [==============================] - 3s 2us/step - loss: 2.1247 - mean_absolute_error: 2.1247 - val_loss: 2.2187 - val_mean_absolute_error: 2.2187\n",
      "Epoch 310/500\n",
      "1456781/1456781 [==============================] - 3s 2us/step - loss: 2.1273 - mean_absolute_error: 2.1273 - val_loss: 1.9928 - val_mean_absolute_error: 1.9928\n",
      "Epoch 311/500\n",
      "1456781/1456781 [==============================] - 3s 2us/step - loss: 2.1538 - mean_absolute_error: 2.1538 - val_loss: 2.0844 - val_mean_absolute_error: 2.0844\n",
      "Epoch 312/500\n",
      "1456781/1456781 [==============================] - 3s 2us/step - loss: 2.1334 - mean_absolute_error: 2.1334 - val_loss: 2.0534 - val_mean_absolute_error: 2.0534\n",
      "Epoch 313/500\n",
      "1456781/1456781 [==============================] - 3s 2us/step - loss: 2.1331 - mean_absolute_error: 2.1330 - val_loss: 2.0990 - val_mean_absolute_error: 2.0990\n",
      "Epoch 314/500\n",
      "1456781/1456781 [==============================] - 3s 2us/step - loss: 2.1253 - mean_absolute_error: 2.1253 - val_loss: 2.2014 - val_mean_absolute_error: 2.2014\n",
      "Epoch 315/500\n",
      "1456781/1456781 [==============================] - 3s 2us/step - loss: 2.1550 - mean_absolute_error: 2.1550 - val_loss: 2.0945 - val_mean_absolute_error: 2.0945\n",
      "Epoch 316/500\n",
      "1456781/1456781 [==============================] - 3s 2us/step - loss: 2.1259 - mean_absolute_error: 2.1259 - val_loss: 2.4613 - val_mean_absolute_error: 2.4613\n",
      "Epoch 317/500\n",
      "1456781/1456781 [==============================] - 3s 2us/step - loss: 2.1270 - mean_absolute_error: 2.1270 - val_loss: 2.2072 - val_mean_absolute_error: 2.2072\n",
      "Epoch 318/500\n",
      "1456781/1456781 [==============================] - 3s 2us/step - loss: 2.1260 - mean_absolute_error: 2.1260 - val_loss: 2.0986 - val_mean_absolute_error: 2.0986\n",
      "Epoch 319/500\n",
      "1456781/1456781 [==============================] - 3s 2us/step - loss: 2.1171 - mean_absolute_error: 2.1171 - val_loss: 2.3482 - val_mean_absolute_error: 2.3482\n",
      "Epoch 320/500\n",
      "1456781/1456781 [==============================] - 3s 2us/step - loss: 2.0965 - mean_absolute_error: 2.0965 - val_loss: 2.4148 - val_mean_absolute_error: 2.4148\n",
      "Epoch 321/500\n",
      "1456781/1456781 [==============================] - 3s 2us/step - loss: 2.1536 - mean_absolute_error: 2.1536 - val_loss: 2.0766 - val_mean_absolute_error: 2.0766\n",
      "Epoch 322/500\n",
      "1456781/1456781 [==============================] - 3s 2us/step - loss: 2.0858 - mean_absolute_error: 2.0858 - val_loss: 2.0853 - val_mean_absolute_error: 2.0853\n",
      "Epoch 323/500\n",
      "1456781/1456781 [==============================] - 3s 2us/step - loss: 2.0818 - mean_absolute_error: 2.0818 - val_loss: 2.0425 - val_mean_absolute_error: 2.0425\n",
      "Epoch 324/500\n",
      "1456781/1456781 [==============================] - 3s 2us/step - loss: 2.1139 - mean_absolute_error: 2.1139 - val_loss: 2.6856 - val_mean_absolute_error: 2.6856\n",
      "Epoch 325/500\n",
      "1456781/1456781 [==============================] - 3s 2us/step - loss: 2.1369 - mean_absolute_error: 2.1369 - val_loss: 2.1570 - val_mean_absolute_error: 2.1570\n",
      "Epoch 326/500\n",
      "1456781/1456781 [==============================] - 3s 2us/step - loss: 2.1096 - mean_absolute_error: 2.1096 - val_loss: 2.1552 - val_mean_absolute_error: 2.1552\n",
      "Epoch 327/500\n",
      "1456781/1456781 [==============================] - 3s 2us/step - loss: 2.1178 - mean_absolute_error: 2.1178 - val_loss: 2.1155 - val_mean_absolute_error: 2.1155\n"
     ]
    },
    {
     "name": "stdout",
     "output_type": "stream",
     "text": [
      "Epoch 328/500\n",
      "1456781/1456781 [==============================] - 3s 2us/step - loss: 2.1199 - mean_absolute_error: 2.1199 - val_loss: 2.0349 - val_mean_absolute_error: 2.0349\n",
      "Epoch 329/500\n",
      "1456781/1456781 [==============================] - 3s 2us/step - loss: 2.1061 - mean_absolute_error: 2.1061 - val_loss: 2.1265 - val_mean_absolute_error: 2.1265\n",
      "Epoch 330/500\n",
      "1456781/1456781 [==============================] - 3s 2us/step - loss: 2.0899 - mean_absolute_error: 2.0899 - val_loss: 2.0531 - val_mean_absolute_error: 2.0531\n",
      "Epoch 331/500\n",
      "1456781/1456781 [==============================] - 3s 2us/step - loss: 2.1193 - mean_absolute_error: 2.1193 - val_loss: 2.0688 - val_mean_absolute_error: 2.0688\n",
      "Epoch 332/500\n",
      "1456781/1456781 [==============================] - 3s 2us/step - loss: 2.0822 - mean_absolute_error: 2.0822 - val_loss: 2.0700 - val_mean_absolute_error: 2.0700\n",
      "Epoch 333/500\n",
      "1456781/1456781 [==============================] - 3s 2us/step - loss: 2.1081 - mean_absolute_error: 2.1081 - val_loss: 2.1186 - val_mean_absolute_error: 2.1186\n",
      "Epoch 334/500\n",
      "1456781/1456781 [==============================] - 3s 2us/step - loss: 2.0740 - mean_absolute_error: 2.0740 - val_loss: 2.1506 - val_mean_absolute_error: 2.1506\n",
      "Epoch 335/500\n",
      "1456781/1456781 [==============================] - 3s 2us/step - loss: 2.1109 - mean_absolute_error: 2.1109 - val_loss: 2.2501 - val_mean_absolute_error: 2.2501\n",
      "Epoch 336/500\n",
      "1456781/1456781 [==============================] - 3s 2us/step - loss: 2.0918 - mean_absolute_error: 2.0918 - val_loss: 2.2995 - val_mean_absolute_error: 2.2995\n",
      "Epoch 337/500\n",
      "1456781/1456781 [==============================] - 3s 2us/step - loss: 2.0680 - mean_absolute_error: 2.0680 - val_loss: 2.1057 - val_mean_absolute_error: 2.1057\n",
      "Epoch 338/500\n",
      "1456781/1456781 [==============================] - 3s 2us/step - loss: 2.1084 - mean_absolute_error: 2.1084 - val_loss: 2.1905 - val_mean_absolute_error: 2.1905\n",
      "Epoch 339/500\n",
      "1456781/1456781 [==============================] - 3s 2us/step - loss: 2.0619 - mean_absolute_error: 2.0619 - val_loss: 2.0408 - val_mean_absolute_error: 2.0408\n",
      "Epoch 340/500\n",
      "1456781/1456781 [==============================] - 3s 2us/step - loss: 2.0776 - mean_absolute_error: 2.0776 - val_loss: 1.9488 - val_mean_absolute_error: 1.9488\n",
      "Epoch 341/500\n",
      "1456781/1456781 [==============================] - 3s 2us/step - loss: 2.0871 - mean_absolute_error: 2.0871 - val_loss: 2.1610 - val_mean_absolute_error: 2.1610\n",
      "Epoch 342/500\n",
      "1456781/1456781 [==============================] - 3s 2us/step - loss: 2.0664 - mean_absolute_error: 2.0664 - val_loss: 2.0356 - val_mean_absolute_error: 2.0356\n",
      "Epoch 343/500\n",
      "1456781/1456781 [==============================] - 3s 2us/step - loss: 2.0543 - mean_absolute_error: 2.0543 - val_loss: 2.1474 - val_mean_absolute_error: 2.1474\n",
      "Epoch 344/500\n",
      "1456781/1456781 [==============================] - 3s 2us/step - loss: 2.1038 - mean_absolute_error: 2.1038 - val_loss: 2.0895 - val_mean_absolute_error: 2.0895\n",
      "Epoch 345/500\n",
      "1456781/1456781 [==============================] - 3s 2us/step - loss: 2.0884 - mean_absolute_error: 2.0884 - val_loss: 2.1108 - val_mean_absolute_error: 2.1108\n",
      "Epoch 346/500\n",
      "1456781/1456781 [==============================] - 3s 2us/step - loss: 2.1169 - mean_absolute_error: 2.1169 - val_loss: 1.9933 - val_mean_absolute_error: 1.9933\n",
      "Epoch 347/500\n",
      "1456781/1456781 [==============================] - 3s 2us/step - loss: 2.0501 - mean_absolute_error: 2.0501 - val_loss: 2.0569 - val_mean_absolute_error: 2.0569\n",
      "Epoch 348/500\n",
      "1456781/1456781 [==============================] - 3s 2us/step - loss: 2.0452 - mean_absolute_error: 2.0452 - val_loss: 2.1096 - val_mean_absolute_error: 2.1096\n",
      "Epoch 349/500\n",
      "1456781/1456781 [==============================] - 3s 2us/step - loss: 2.0746 - mean_absolute_error: 2.0746 - val_loss: 2.0298 - val_mean_absolute_error: 2.0298\n",
      "Epoch 350/500\n",
      "1456781/1456781 [==============================] - 3s 2us/step - loss: 2.0439 - mean_absolute_error: 2.0439 - val_loss: 2.1198 - val_mean_absolute_error: 2.1198\n",
      "Epoch 351/500\n",
      "1456781/1456781 [==============================] - 3s 2us/step - loss: 2.0148 - mean_absolute_error: 2.0148 - val_loss: 2.1769 - val_mean_absolute_error: 2.1769\n",
      "Epoch 352/500\n",
      "1456781/1456781 [==============================] - 3s 2us/step - loss: 2.0578 - mean_absolute_error: 2.0578 - val_loss: 2.4387 - val_mean_absolute_error: 2.4387\n",
      "Epoch 353/500\n",
      "1456781/1456781 [==============================] - 3s 2us/step - loss: 2.0516 - mean_absolute_error: 2.0516 - val_loss: 2.1789 - val_mean_absolute_error: 2.1789\n",
      "Epoch 354/500\n",
      "1456781/1456781 [==============================] - 3s 2us/step - loss: 2.0738 - mean_absolute_error: 2.0738 - val_loss: 1.9696 - val_mean_absolute_error: 1.9696\n",
      "Epoch 355/500\n",
      "1456781/1456781 [==============================] - 3s 2us/step - loss: 2.0465 - mean_absolute_error: 2.0465 - val_loss: 2.0711 - val_mean_absolute_error: 2.0711\n",
      "Epoch 356/500\n",
      "1456781/1456781 [==============================] - 3s 2us/step - loss: 2.0366 - mean_absolute_error: 2.0366 - val_loss: 1.9780 - val_mean_absolute_error: 1.9780\n",
      "Epoch 357/500\n",
      "1456781/1456781 [==============================] - 3s 2us/step - loss: 2.0629 - mean_absolute_error: 2.0629 - val_loss: 2.8272 - val_mean_absolute_error: 2.8272\n",
      "Epoch 358/500\n",
      "1456781/1456781 [==============================] - 3s 2us/step - loss: 2.0424 - mean_absolute_error: 2.0424 - val_loss: 2.0915 - val_mean_absolute_error: 2.0915\n",
      "Epoch 359/500\n",
      "1456781/1456781 [==============================] - 3s 2us/step - loss: 2.0390 - mean_absolute_error: 2.0390 - val_loss: 2.0149 - val_mean_absolute_error: 2.0149\n",
      "Epoch 360/500\n",
      "1456781/1456781 [==============================] - 3s 2us/step - loss: 2.0653 - mean_absolute_error: 2.0653 - val_loss: 2.0094 - val_mean_absolute_error: 2.0094\n",
      "Epoch 361/500\n",
      "1456781/1456781 [==============================] - 3s 2us/step - loss: 2.0093 - mean_absolute_error: 2.0093 - val_loss: 2.1674 - val_mean_absolute_error: 2.1674\n",
      "Epoch 362/500\n",
      "1456781/1456781 [==============================] - 3s 2us/step - loss: 2.0506 - mean_absolute_error: 2.0506 - val_loss: 2.0540 - val_mean_absolute_error: 2.0540\n",
      "Epoch 363/500\n",
      "1456781/1456781 [==============================] - 3s 2us/step - loss: 2.0617 - mean_absolute_error: 2.0617 - val_loss: 1.9855 - val_mean_absolute_error: 1.9855\n",
      "Epoch 364/500\n",
      "1456781/1456781 [==============================] - 3s 2us/step - loss: 2.0705 - mean_absolute_error: 2.0705 - val_loss: 1.9076 - val_mean_absolute_error: 1.9076\n",
      "Epoch 365/500\n",
      "1456781/1456781 [==============================] - 3s 2us/step - loss: 2.0199 - mean_absolute_error: 2.0199 - val_loss: 2.0960 - val_mean_absolute_error: 2.0960\n",
      "Epoch 366/500\n",
      "1456781/1456781 [==============================] - 3s 2us/step - loss: 2.0138 - mean_absolute_error: 2.0138 - val_loss: 1.9364 - val_mean_absolute_error: 1.9364\n",
      "Epoch 367/500\n",
      "1456781/1456781 [==============================] - 3s 2us/step - loss: 2.0228 - mean_absolute_error: 2.0228 - val_loss: 2.3756 - val_mean_absolute_error: 2.3756\n",
      "Epoch 368/500\n",
      "1456781/1456781 [==============================] - 3s 2us/step - loss: 2.0548 - mean_absolute_error: 2.0548 - val_loss: 2.1145 - val_mean_absolute_error: 2.1145\n",
      "Epoch 369/500\n",
      "1456781/1456781 [==============================] - 3s 2us/step - loss: 2.0370 - mean_absolute_error: 2.0370 - val_loss: 2.0307 - val_mean_absolute_error: 2.0307\n",
      "Epoch 370/500\n",
      "1456781/1456781 [==============================] - 3s 2us/step - loss: 2.0092 - mean_absolute_error: 2.0092 - val_loss: 1.9970 - val_mean_absolute_error: 1.9970\n",
      "Epoch 371/500\n",
      "1456781/1456781 [==============================] - 3s 2us/step - loss: 2.0549 - mean_absolute_error: 2.0549 - val_loss: 1.9875 - val_mean_absolute_error: 1.9875\n",
      "Epoch 372/500\n",
      "1456781/1456781 [==============================] - 3s 2us/step - loss: 2.0316 - mean_absolute_error: 2.0316 - val_loss: 1.8762 - val_mean_absolute_error: 1.8762\n",
      "Epoch 373/500\n",
      "1456781/1456781 [==============================] - 3s 2us/step - loss: 2.0234 - mean_absolute_error: 2.0234 - val_loss: 1.9267 - val_mean_absolute_error: 1.9267\n",
      "Epoch 374/500\n",
      "1456781/1456781 [==============================] - 3s 2us/step - loss: 1.9836 - mean_absolute_error: 1.9836 - val_loss: 2.0357 - val_mean_absolute_error: 2.0357\n"
     ]
    },
    {
     "name": "stdout",
     "output_type": "stream",
     "text": [
      "Epoch 375/500\n",
      "1456781/1456781 [==============================] - 3s 2us/step - loss: 2.0414 - mean_absolute_error: 2.0414 - val_loss: 1.9979 - val_mean_absolute_error: 1.9979\n",
      "Epoch 376/500\n",
      "1456781/1456781 [==============================] - 3s 2us/step - loss: 2.0282 - mean_absolute_error: 2.0282 - val_loss: 2.2440 - val_mean_absolute_error: 2.2440\n",
      "Epoch 377/500\n",
      "1456781/1456781 [==============================] - 3s 2us/step - loss: 2.0110 - mean_absolute_error: 2.0110 - val_loss: 1.9752 - val_mean_absolute_error: 1.9752\n",
      "Epoch 378/500\n",
      "1456781/1456781 [==============================] - 3s 2us/step - loss: 2.0405 - mean_absolute_error: 2.0405 - val_loss: 2.0604 - val_mean_absolute_error: 2.0604\n",
      "Epoch 379/500\n",
      "1456781/1456781 [==============================] - 3s 2us/step - loss: 1.9943 - mean_absolute_error: 1.9943 - val_loss: 1.8879 - val_mean_absolute_error: 1.8879\n",
      "Epoch 380/500\n",
      "1456781/1456781 [==============================] - 3s 2us/step - loss: 2.0224 - mean_absolute_error: 2.0224 - val_loss: 1.9022 - val_mean_absolute_error: 1.9022\n",
      "Epoch 381/500\n",
      "1456781/1456781 [==============================] - 3s 2us/step - loss: 2.0248 - mean_absolute_error: 2.0248 - val_loss: 2.2015 - val_mean_absolute_error: 2.2015\n",
      "Epoch 382/500\n",
      "1456781/1456781 [==============================] - 3s 2us/step - loss: 2.0168 - mean_absolute_error: 2.0168 - val_loss: 1.9011 - val_mean_absolute_error: 1.9011\n",
      "Epoch 383/500\n",
      "1456781/1456781 [==============================] - 3s 2us/step - loss: 2.0058 - mean_absolute_error: 2.0058 - val_loss: 2.0008 - val_mean_absolute_error: 2.0008\n",
      "Epoch 384/500\n",
      "1456781/1456781 [==============================] - 3s 2us/step - loss: 1.9732 - mean_absolute_error: 1.9732 - val_loss: 1.9156 - val_mean_absolute_error: 1.9156\n",
      "Epoch 385/500\n",
      "1456781/1456781 [==============================] - 3s 2us/step - loss: 2.0024 - mean_absolute_error: 2.0024 - val_loss: 1.9090 - val_mean_absolute_error: 1.9090\n",
      "Epoch 386/500\n",
      "1456781/1456781 [==============================] - 3s 2us/step - loss: 2.0185 - mean_absolute_error: 2.0185 - val_loss: 2.4383 - val_mean_absolute_error: 2.4383\n",
      "Epoch 387/500\n",
      "1456781/1456781 [==============================] - 3s 2us/step - loss: 2.0184 - mean_absolute_error: 2.0184 - val_loss: 1.8814 - val_mean_absolute_error: 1.8814\n",
      "Epoch 388/500\n",
      "1456781/1456781 [==============================] - 3s 2us/step - loss: 1.9875 - mean_absolute_error: 1.9875 - val_loss: 2.0276 - val_mean_absolute_error: 2.0276\n",
      "Epoch 389/500\n",
      "1456781/1456781 [==============================] - 3s 2us/step - loss: 1.9901 - mean_absolute_error: 1.9901 - val_loss: 2.0056 - val_mean_absolute_error: 2.0056\n",
      "Epoch 390/500\n",
      "1456781/1456781 [==============================] - 3s 2us/step - loss: 2.0252 - mean_absolute_error: 2.0252 - val_loss: 2.0816 - val_mean_absolute_error: 2.0816\n",
      "Epoch 391/500\n",
      "1456781/1456781 [==============================] - 3s 2us/step - loss: 1.9954 - mean_absolute_error: 1.9954 - val_loss: 2.1176 - val_mean_absolute_error: 2.1176\n",
      "Epoch 392/500\n",
      "1456781/1456781 [==============================] - 3s 2us/step - loss: 1.9665 - mean_absolute_error: 1.9665 - val_loss: 2.3679 - val_mean_absolute_error: 2.3679\n",
      "Epoch 393/500\n",
      "1456781/1456781 [==============================] - 3s 2us/step - loss: 1.9828 - mean_absolute_error: 1.9828 - val_loss: 1.9414 - val_mean_absolute_error: 1.9414\n",
      "Epoch 394/500\n",
      "1456781/1456781 [==============================] - 3s 2us/step - loss: 2.0017 - mean_absolute_error: 2.0017 - val_loss: 2.2308 - val_mean_absolute_error: 2.2308\n",
      "Epoch 395/500\n",
      "1456781/1456781 [==============================] - 3s 2us/step - loss: 1.9924 - mean_absolute_error: 1.9924 - val_loss: 1.9462 - val_mean_absolute_error: 1.9462\n",
      "Epoch 396/500\n",
      "1456781/1456781 [==============================] - 3s 2us/step - loss: 1.9629 - mean_absolute_error: 1.9629 - val_loss: 1.9408 - val_mean_absolute_error: 1.9408\n",
      "Epoch 397/500\n",
      "1456781/1456781 [==============================] - 3s 2us/step - loss: 1.9931 - mean_absolute_error: 1.9931 - val_loss: 1.9308 - val_mean_absolute_error: 1.9308\n",
      "Epoch 398/500\n",
      "1456781/1456781 [==============================] - 3s 2us/step - loss: 1.9799 - mean_absolute_error: 1.9799 - val_loss: 2.2967 - val_mean_absolute_error: 2.2967\n",
      "Epoch 399/500\n",
      "1456781/1456781 [==============================] - 3s 2us/step - loss: 1.9808 - mean_absolute_error: 1.9808 - val_loss: 1.9480 - val_mean_absolute_error: 1.9480\n",
      "Epoch 400/500\n",
      "1456781/1456781 [==============================] - 3s 2us/step - loss: 1.9915 - mean_absolute_error: 1.9915 - val_loss: 1.9356 - val_mean_absolute_error: 1.9356\n",
      "Epoch 401/500\n",
      "1456781/1456781 [==============================] - 3s 2us/step - loss: 1.9526 - mean_absolute_error: 1.9526 - val_loss: 1.9879 - val_mean_absolute_error: 1.9879\n",
      "Epoch 402/500\n",
      "1456781/1456781 [==============================] - 3s 2us/step - loss: 1.9666 - mean_absolute_error: 1.9666 - val_loss: 1.8906 - val_mean_absolute_error: 1.8906\n",
      "Epoch 403/500\n",
      "1456781/1456781 [==============================] - 3s 2us/step - loss: 2.0165 - mean_absolute_error: 2.0165 - val_loss: 2.1406 - val_mean_absolute_error: 2.1406\n",
      "Epoch 404/500\n",
      "1456781/1456781 [==============================] - 3s 2us/step - loss: 1.9750 - mean_absolute_error: 1.9750 - val_loss: 1.7977 - val_mean_absolute_error: 1.7977\n",
      "Epoch 405/500\n",
      "1456781/1456781 [==============================] - 3s 2us/step - loss: 1.9689 - mean_absolute_error: 1.9689 - val_loss: 1.9298 - val_mean_absolute_error: 1.9298\n",
      "Epoch 406/500\n",
      "1456781/1456781 [==============================] - 3s 2us/step - loss: 1.9567 - mean_absolute_error: 1.9567 - val_loss: 1.9243 - val_mean_absolute_error: 1.9243\n",
      "Epoch 407/500\n",
      "1456781/1456781 [==============================] - 3s 2us/step - loss: 1.9546 - mean_absolute_error: 1.9546 - val_loss: 2.0194 - val_mean_absolute_error: 2.0194\n",
      "Epoch 408/500\n",
      "1456781/1456781 [==============================] - 3s 2us/step - loss: 1.9956 - mean_absolute_error: 1.9956 - val_loss: 1.9560 - val_mean_absolute_error: 1.9560\n",
      "Epoch 409/500\n",
      "1456781/1456781 [==============================] - 3s 2us/step - loss: 1.9790 - mean_absolute_error: 1.9790 - val_loss: 2.0930 - val_mean_absolute_error: 2.0930\n",
      "Epoch 410/500\n",
      "1456781/1456781 [==============================] - 3s 2us/step - loss: 1.9496 - mean_absolute_error: 1.9496 - val_loss: 2.0426 - val_mean_absolute_error: 2.0426\n",
      "Epoch 411/500\n",
      "1456781/1456781 [==============================] - 3s 2us/step - loss: 1.9651 - mean_absolute_error: 1.9651 - val_loss: 1.9604 - val_mean_absolute_error: 1.9604\n",
      "Epoch 412/500\n",
      "1456781/1456781 [==============================] - 3s 2us/step - loss: 1.9758 - mean_absolute_error: 1.9758 - val_loss: 1.9374 - val_mean_absolute_error: 1.9374\n",
      "Epoch 413/500\n",
      "1456781/1456781 [==============================] - 3s 2us/step - loss: 1.9345 - mean_absolute_error: 1.9345 - val_loss: 1.9670 - val_mean_absolute_error: 1.9670\n",
      "Epoch 414/500\n",
      "1456781/1456781 [==============================] - 3s 2us/step - loss: 1.9366 - mean_absolute_error: 1.9366 - val_loss: 1.8943 - val_mean_absolute_error: 1.8943\n",
      "Epoch 415/500\n",
      "1456781/1456781 [==============================] - 3s 2us/step - loss: 1.9799 - mean_absolute_error: 1.9799 - val_loss: 1.8434 - val_mean_absolute_error: 1.8434\n",
      "Epoch 416/500\n",
      "1456781/1456781 [==============================] - 3s 2us/step - loss: 1.9662 - mean_absolute_error: 1.9662 - val_loss: 2.2918 - val_mean_absolute_error: 2.2918\n",
      "Epoch 417/500\n",
      "1456781/1456781 [==============================] - 3s 2us/step - loss: 1.9707 - mean_absolute_error: 1.9707 - val_loss: 2.0692 - val_mean_absolute_error: 2.0692\n",
      "Epoch 418/500\n",
      "1456781/1456781 [==============================] - 3s 2us/step - loss: 1.9883 - mean_absolute_error: 1.9883 - val_loss: 1.9353 - val_mean_absolute_error: 1.9353\n",
      "Epoch 419/500\n",
      "1456781/1456781 [==============================] - 3s 2us/step - loss: 1.9681 - mean_absolute_error: 1.9681 - val_loss: 2.2005 - val_mean_absolute_error: 2.2005\n",
      "Epoch 420/500\n",
      "1456781/1456781 [==============================] - 3s 2us/step - loss: 1.9287 - mean_absolute_error: 1.9287 - val_loss: 1.8998 - val_mean_absolute_error: 1.8998\n",
      "Epoch 421/500\n",
      "1456781/1456781 [==============================] - 3s 2us/step - loss: 1.9531 - mean_absolute_error: 1.9531 - val_loss: 1.9044 - val_mean_absolute_error: 1.9044\n"
     ]
    },
    {
     "name": "stdout",
     "output_type": "stream",
     "text": [
      "Epoch 422/500\n",
      "1456781/1456781 [==============================] - 3s 2us/step - loss: 1.9615 - mean_absolute_error: 1.9615 - val_loss: 1.9150 - val_mean_absolute_error: 1.9150\n",
      "Epoch 423/500\n",
      "1456781/1456781 [==============================] - 3s 2us/step - loss: 1.9532 - mean_absolute_error: 1.9532 - val_loss: 1.8643 - val_mean_absolute_error: 1.8643\n",
      "Epoch 424/500\n",
      "1456781/1456781 [==============================] - 3s 2us/step - loss: 1.9184 - mean_absolute_error: 1.9184 - val_loss: 2.0107 - val_mean_absolute_error: 2.0107\n",
      "Epoch 425/500\n",
      "1456781/1456781 [==============================] - 3s 2us/step - loss: 1.9326 - mean_absolute_error: 1.9326 - val_loss: 1.8695 - val_mean_absolute_error: 1.8695\n",
      "Epoch 426/500\n",
      "1456781/1456781 [==============================] - 3s 2us/step - loss: 1.9513 - mean_absolute_error: 1.9513 - val_loss: 1.9077 - val_mean_absolute_error: 1.9077\n",
      "Epoch 427/500\n",
      "1456781/1456781 [==============================] - 3s 2us/step - loss: 1.9582 - mean_absolute_error: 1.9582 - val_loss: 1.7674 - val_mean_absolute_error: 1.7674\n",
      "Epoch 428/500\n",
      "1456781/1456781 [==============================] - 3s 2us/step - loss: 1.9455 - mean_absolute_error: 1.9455 - val_loss: 2.1450 - val_mean_absolute_error: 2.1450\n",
      "Epoch 429/500\n",
      "1456781/1456781 [==============================] - 3s 2us/step - loss: 1.9354 - mean_absolute_error: 1.9354 - val_loss: 2.0527 - val_mean_absolute_error: 2.0527\n",
      "Epoch 430/500\n",
      "1456781/1456781 [==============================] - 3s 2us/step - loss: 1.9390 - mean_absolute_error: 1.9390 - val_loss: 1.8911 - val_mean_absolute_error: 1.8911\n",
      "Epoch 431/500\n",
      "1456781/1456781 [==============================] - 3s 2us/step - loss: 1.9463 - mean_absolute_error: 1.9463 - val_loss: 2.1267 - val_mean_absolute_error: 2.1267\n",
      "Epoch 432/500\n",
      "1456781/1456781 [==============================] - 3s 2us/step - loss: 1.9173 - mean_absolute_error: 1.9173 - val_loss: 2.1257 - val_mean_absolute_error: 2.1257\n",
      "Epoch 433/500\n",
      "1456781/1456781 [==============================] - 3s 2us/step - loss: 1.9464 - mean_absolute_error: 1.9464 - val_loss: 1.8824 - val_mean_absolute_error: 1.8824\n",
      "Epoch 434/500\n",
      "1456781/1456781 [==============================] - 3s 2us/step - loss: 1.9290 - mean_absolute_error: 1.9290 - val_loss: 2.0037 - val_mean_absolute_error: 2.0037\n",
      "Epoch 435/500\n",
      "1456781/1456781 [==============================] - 3s 2us/step - loss: 1.9036 - mean_absolute_error: 1.9036 - val_loss: 2.3074 - val_mean_absolute_error: 2.3074\n",
      "Epoch 436/500\n",
      "1456781/1456781 [==============================] - 3s 2us/step - loss: 1.9171 - mean_absolute_error: 1.9171 - val_loss: 1.8754 - val_mean_absolute_error: 1.8754\n",
      "Epoch 437/500\n",
      "1456781/1456781 [==============================] - 3s 2us/step - loss: 1.9371 - mean_absolute_error: 1.9371 - val_loss: 2.0941 - val_mean_absolute_error: 2.0941\n",
      "Epoch 438/500\n",
      "1456781/1456781 [==============================] - 3s 2us/step - loss: 1.9724 - mean_absolute_error: 1.9724 - val_loss: 1.9962 - val_mean_absolute_error: 1.9962\n",
      "Epoch 439/500\n",
      "1456781/1456781 [==============================] - 3s 2us/step - loss: 1.8911 - mean_absolute_error: 1.8911 - val_loss: 1.9080 - val_mean_absolute_error: 1.9080\n",
      "Epoch 440/500\n",
      "1456781/1456781 [==============================] - 3s 2us/step - loss: 1.9735 - mean_absolute_error: 1.9735 - val_loss: 1.9581 - val_mean_absolute_error: 1.9581\n",
      "Epoch 441/500\n",
      "1456781/1456781 [==============================] - 3s 2us/step - loss: 1.9078 - mean_absolute_error: 1.9078 - val_loss: 1.7856 - val_mean_absolute_error: 1.7856\n",
      "Epoch 442/500\n",
      "1456781/1456781 [==============================] - 3s 2us/step - loss: 1.9456 - mean_absolute_error: 1.9456 - val_loss: 1.9906 - val_mean_absolute_error: 1.9906\n",
      "Epoch 443/500\n",
      "1456781/1456781 [==============================] - 3s 2us/step - loss: 1.9080 - mean_absolute_error: 1.9080 - val_loss: 2.2654 - val_mean_absolute_error: 2.2654\n",
      "Epoch 444/500\n",
      "1456781/1456781 [==============================] - 3s 2us/step - loss: 1.9181 - mean_absolute_error: 1.9181 - val_loss: 1.9263 - val_mean_absolute_error: 1.9263\n",
      "Epoch 445/500\n",
      "1456781/1456781 [==============================] - 3s 2us/step - loss: 1.9247 - mean_absolute_error: 1.9247 - val_loss: 1.8776 - val_mean_absolute_error: 1.8776\n",
      "Epoch 446/500\n",
      "1456781/1456781 [==============================] - 3s 2us/step - loss: 1.8814 - mean_absolute_error: 1.8814 - val_loss: 1.9275 - val_mean_absolute_error: 1.9275\n",
      "Epoch 447/500\n",
      "1456781/1456781 [==============================] - 3s 2us/step - loss: 1.9334 - mean_absolute_error: 1.9334 - val_loss: 2.2314 - val_mean_absolute_error: 2.2314\n",
      "Epoch 448/500\n",
      "1456781/1456781 [==============================] - 3s 2us/step - loss: 1.9130 - mean_absolute_error: 1.9130 - val_loss: 2.1619 - val_mean_absolute_error: 2.1619\n",
      "Epoch 449/500\n",
      "1456781/1456781 [==============================] - 3s 2us/step - loss: 1.8943 - mean_absolute_error: 1.8943 - val_loss: 2.0518 - val_mean_absolute_error: 2.0518\n",
      "Epoch 450/500\n",
      "1456781/1456781 [==============================] - 3s 2us/step - loss: 1.9695 - mean_absolute_error: 1.9695 - val_loss: 1.9683 - val_mean_absolute_error: 1.9683\n",
      "Epoch 451/500\n",
      "1456781/1456781 [==============================] - 3s 2us/step - loss: 1.9026 - mean_absolute_error: 1.9026 - val_loss: 1.9916 - val_mean_absolute_error: 1.9916\n",
      "Epoch 452/500\n",
      "1456781/1456781 [==============================] - 3s 2us/step - loss: 1.9392 - mean_absolute_error: 1.9392 - val_loss: 1.9690 - val_mean_absolute_error: 1.9690\n",
      "Epoch 453/500\n",
      "1456781/1456781 [==============================] - 3s 2us/step - loss: 1.9008 - mean_absolute_error: 1.9008 - val_loss: 1.8654 - val_mean_absolute_error: 1.8654\n",
      "Epoch 454/500\n",
      "1456781/1456781 [==============================] - 3s 2us/step - loss: 1.9168 - mean_absolute_error: 1.9168 - val_loss: 2.0802 - val_mean_absolute_error: 2.0802\n",
      "Epoch 455/500\n",
      "1456781/1456781 [==============================] - 3s 2us/step - loss: 1.8914 - mean_absolute_error: 1.8914 - val_loss: 1.9015 - val_mean_absolute_error: 1.9015\n",
      "Epoch 456/500\n",
      "1456781/1456781 [==============================] - 3s 2us/step - loss: 1.8923 - mean_absolute_error: 1.8923 - val_loss: 1.8270 - val_mean_absolute_error: 1.8270\n",
      "Epoch 457/500\n",
      "1456781/1456781 [==============================] - 3s 2us/step - loss: 1.8942 - mean_absolute_error: 1.8942 - val_loss: 1.8639 - val_mean_absolute_error: 1.8639\n",
      "Epoch 458/500\n",
      "1456781/1456781 [==============================] - 3s 2us/step - loss: 1.8966 - mean_absolute_error: 1.8966 - val_loss: 1.9891 - val_mean_absolute_error: 1.9891\n",
      "Epoch 459/500\n",
      "1456781/1456781 [==============================] - 3s 2us/step - loss: 1.9004 - mean_absolute_error: 1.9004 - val_loss: 1.9546 - val_mean_absolute_error: 1.9546\n",
      "Epoch 460/500\n",
      "1456781/1456781 [==============================] - 3s 2us/step - loss: 1.9092 - mean_absolute_error: 1.9092 - val_loss: 1.8683 - val_mean_absolute_error: 1.8683\n",
      "Epoch 461/500\n",
      "1456781/1456781 [==============================] - 3s 2us/step - loss: 1.8674 - mean_absolute_error: 1.8674 - val_loss: 2.1157 - val_mean_absolute_error: 2.1157\n",
      "Epoch 462/500\n",
      "1456781/1456781 [==============================] - 3s 2us/step - loss: 1.9330 - mean_absolute_error: 1.9330 - val_loss: 1.8375 - val_mean_absolute_error: 1.8375\n",
      "Epoch 463/500\n",
      "1456781/1456781 [==============================] - 3s 2us/step - loss: 1.9134 - mean_absolute_error: 1.9134 - val_loss: 1.8908 - val_mean_absolute_error: 1.8908\n",
      "Epoch 464/500\n",
      "1456781/1456781 [==============================] - 3s 2us/step - loss: 1.8881 - mean_absolute_error: 1.8881 - val_loss: 1.7889 - val_mean_absolute_error: 1.7889\n",
      "Epoch 465/500\n",
      "1456781/1456781 [==============================] - 3s 2us/step - loss: 1.8682 - mean_absolute_error: 1.8682 - val_loss: 1.8455 - val_mean_absolute_error: 1.8455\n",
      "Epoch 466/500\n",
      "1456781/1456781 [==============================] - 3s 2us/step - loss: 1.8929 - mean_absolute_error: 1.8929 - val_loss: 2.3883 - val_mean_absolute_error: 2.3883\n",
      "Epoch 467/500\n",
      "1456781/1456781 [==============================] - 3s 2us/step - loss: 1.8930 - mean_absolute_error: 1.8930 - val_loss: 1.7800 - val_mean_absolute_error: 1.7800\n",
      "Epoch 468/500\n",
      "1456781/1456781 [==============================] - 3s 2us/step - loss: 1.8928 - mean_absolute_error: 1.8928 - val_loss: 2.0997 - val_mean_absolute_error: 2.0997\n"
     ]
    },
    {
     "name": "stdout",
     "output_type": "stream",
     "text": [
      "Epoch 469/500\n",
      "1456781/1456781 [==============================] - 3s 2us/step - loss: 1.9305 - mean_absolute_error: 1.9305 - val_loss: 1.9225 - val_mean_absolute_error: 1.9225\n",
      "Epoch 470/500\n",
      "1456781/1456781 [==============================] - 3s 2us/step - loss: 1.8681 - mean_absolute_error: 1.8681 - val_loss: 2.1149 - val_mean_absolute_error: 2.1149\n",
      "Epoch 471/500\n",
      "1456781/1456781 [==============================] - 3s 2us/step - loss: 1.8926 - mean_absolute_error: 1.8926 - val_loss: 1.7737 - val_mean_absolute_error: 1.7737\n",
      "Epoch 472/500\n",
      "1456781/1456781 [==============================] - 3s 2us/step - loss: 1.9044 - mean_absolute_error: 1.9044 - val_loss: 1.9635 - val_mean_absolute_error: 1.9635\n",
      "Epoch 473/500\n",
      "1456781/1456781 [==============================] - 3s 2us/step - loss: 1.8729 - mean_absolute_error: 1.8729 - val_loss: 1.8922 - val_mean_absolute_error: 1.8922\n",
      "Epoch 474/500\n",
      "1456781/1456781 [==============================] - 3s 2us/step - loss: 1.8788 - mean_absolute_error: 1.8788 - val_loss: 1.8228 - val_mean_absolute_error: 1.8228\n",
      "Epoch 475/500\n",
      "1456781/1456781 [==============================] - 3s 2us/step - loss: 1.9363 - mean_absolute_error: 1.9363 - val_loss: 1.8445 - val_mean_absolute_error: 1.8445\n",
      "Epoch 476/500\n",
      "1456781/1456781 [==============================] - 3s 2us/step - loss: 1.8636 - mean_absolute_error: 1.8636 - val_loss: 1.7960 - val_mean_absolute_error: 1.7960\n",
      "Epoch 477/500\n",
      "1456781/1456781 [==============================] - 3s 2us/step - loss: 1.8612 - mean_absolute_error: 1.8612 - val_loss: 1.8771 - val_mean_absolute_error: 1.8771\n",
      "Epoch 478/500\n",
      "1456781/1456781 [==============================] - 3s 2us/step - loss: 1.8842 - mean_absolute_error: 1.8842 - val_loss: 1.7352 - val_mean_absolute_error: 1.7352\n",
      "Epoch 479/500\n",
      "1456781/1456781 [==============================] - 3s 2us/step - loss: 1.8923 - mean_absolute_error: 1.8923 - val_loss: 1.9214 - val_mean_absolute_error: 1.9214\n",
      "Epoch 480/500\n",
      "1456781/1456781 [==============================] - 3s 2us/step - loss: 1.8659 - mean_absolute_error: 1.8659 - val_loss: 1.8404 - val_mean_absolute_error: 1.8404\n",
      "Epoch 481/500\n",
      "1456781/1456781 [==============================] - 3s 2us/step - loss: 1.8735 - mean_absolute_error: 1.8735 - val_loss: 1.9402 - val_mean_absolute_error: 1.9402\n",
      "Epoch 482/500\n",
      "1456781/1456781 [==============================] - 3s 2us/step - loss: 1.8446 - mean_absolute_error: 1.8446 - val_loss: 1.7454 - val_mean_absolute_error: 1.7454\n",
      "Epoch 483/500\n",
      "1456781/1456781 [==============================] - 3s 2us/step - loss: 1.9082 - mean_absolute_error: 1.9082 - val_loss: 1.9055 - val_mean_absolute_error: 1.9055\n",
      "Epoch 484/500\n",
      "1456781/1456781 [==============================] - 3s 2us/step - loss: 1.8796 - mean_absolute_error: 1.8796 - val_loss: 1.9289 - val_mean_absolute_error: 1.9289\n",
      "Epoch 485/500\n",
      "1456781/1456781 [==============================] - 3s 2us/step - loss: 1.9190 - mean_absolute_error: 1.9190 - val_loss: 2.0022 - val_mean_absolute_error: 2.0022\n",
      "Epoch 486/500\n",
      "1456781/1456781 [==============================] - 3s 2us/step - loss: 1.8561 - mean_absolute_error: 1.8561 - val_loss: 1.7758 - val_mean_absolute_error: 1.7758\n",
      "Epoch 487/500\n",
      "1456781/1456781 [==============================] - 3s 2us/step - loss: 1.8427 - mean_absolute_error: 1.8427 - val_loss: 1.7700 - val_mean_absolute_error: 1.7700\n",
      "Epoch 488/500\n",
      "1456781/1456781 [==============================] - 3s 2us/step - loss: 1.8682 - mean_absolute_error: 1.8682 - val_loss: 1.8050 - val_mean_absolute_error: 1.8050\n",
      "Epoch 489/500\n",
      "1456781/1456781 [==============================] - 3s 2us/step - loss: 1.8645 - mean_absolute_error: 1.8645 - val_loss: 1.9037 - val_mean_absolute_error: 1.9037\n",
      "Epoch 490/500\n",
      "1456781/1456781 [==============================] - 3s 2us/step - loss: 1.8755 - mean_absolute_error: 1.8755 - val_loss: 1.9210 - val_mean_absolute_error: 1.9210\n",
      "Epoch 491/500\n",
      "1456781/1456781 [==============================] - 3s 2us/step - loss: 1.8359 - mean_absolute_error: 1.8359 - val_loss: 1.7878 - val_mean_absolute_error: 1.7878\n",
      "Epoch 492/500\n",
      "1456781/1456781 [==============================] - 3s 2us/step - loss: 1.8681 - mean_absolute_error: 1.8681 - val_loss: 2.0372 - val_mean_absolute_error: 2.0372\n",
      "Epoch 493/500\n",
      "1456781/1456781 [==============================] - 3s 2us/step - loss: 1.8544 - mean_absolute_error: 1.8544 - val_loss: 1.8901 - val_mean_absolute_error: 1.8901\n",
      "Epoch 494/500\n",
      "1456781/1456781 [==============================] - 3s 2us/step - loss: 1.8601 - mean_absolute_error: 1.8601 - val_loss: 1.8008 - val_mean_absolute_error: 1.8008\n",
      "Epoch 495/500\n",
      "1456781/1456781 [==============================] - 3s 2us/step - loss: 1.8745 - mean_absolute_error: 1.8745 - val_loss: 1.7485 - val_mean_absolute_error: 1.7485\n",
      "Epoch 496/500\n",
      "1456781/1456781 [==============================] - 3s 2us/step - loss: 1.8685 - mean_absolute_error: 1.8685 - val_loss: 1.9299 - val_mean_absolute_error: 1.9299\n",
      "Epoch 497/500\n",
      "1456781/1456781 [==============================] - 3s 2us/step - loss: 1.9071 - mean_absolute_error: 1.9071 - val_loss: 2.2707 - val_mean_absolute_error: 2.2707\n",
      "Epoch 498/500\n",
      "1456781/1456781 [==============================] - 3s 2us/step - loss: 1.8537 - mean_absolute_error: 1.8537 - val_loss: 1.7781 - val_mean_absolute_error: 1.7781\n",
      "Epoch 499/500\n",
      "1456781/1456781 [==============================] - 3s 2us/step - loss: 1.8585 - mean_absolute_error: 1.8585 - val_loss: 1.7574 - val_mean_absolute_error: 1.7574\n",
      "Epoch 500/500\n",
      "1456781/1456781 [==============================] - 3s 2us/step - loss: 1.8496 - mean_absolute_error: 1.8496 - val_loss: 1.7637 - val_mean_absolute_error: 1.7637\n"
     ]
    }
   ],
   "source": [
    "History =  NN_model.fit(X_train_no_ICU_scaled, y_train, epochs=500, batch_size=3000 , validation_data = (X_test_no_ICU_scaled,y_test), verbose=1)"
   ]
  },
  {
   "cell_type": "code",
   "execution_count": 54,
   "metadata": {},
   "outputs": [],
   "source": [
    "#Predicting the test dataset.\n",
    "y_pred = NN_model.predict(X_test_no_ICU_scaled)"
   ]
  },
  {
   "cell_type": "code",
   "execution_count": 55,
   "metadata": {},
   "outputs": [],
   "source": [
    "from sklearn.metrics import accuracy_score, mean_squared_error, mean_absolute_error, r2_score, max_error"
   ]
  },
  {
   "cell_type": "code",
   "execution_count": 66,
   "metadata": {},
   "outputs": [
    {
     "name": "stdout",
     "output_type": "stream",
     "text": [
      "Accuracy of the model: - 85.78310296218244\n",
      "Mean squred error 1375.8922341014422\n",
      "max error 61.94049072265625\n"
     ]
    }
   ],
   "source": [
    "print(\"Accuracy of the model: -\",r2_score(y_test, y_pred) * 100)\n",
    "print(\"Mean squred error\",mean_squared_error(y_test, y_pred)*100)\n",
    "print(\"max error\", max_error(y_test,y_pred))"
   ]
  },
  {
   "cell_type": "code",
   "execution_count": 57,
   "metadata": {},
   "outputs": [],
   "source": [
    "import matplotlib.pyplot as plt\n",
    "from matplotlib import style\n",
    "import seaborn as sns\n",
    "%matplotlib inline"
   ]
  },
  {
   "cell_type": "code",
   "execution_count": 58,
   "metadata": {},
   "outputs": [
    {
     "data": {
      "image/png": "[encoded data removed]",
      "text/plain": [
       "<Figure size 432x288 with 1 Axes>"
      ]
     },
     "metadata": {
      "needs_background": "light"
     },
     "output_type": "display_data"
    }
   ],
   "source": [
    "plt.plot(History.history['loss'])\n",
    "plt.plot(History.history['val_loss'])\n",
    "plt.title('Model Loss')\n",
    "plt.ylabel('Loss')\n",
    "plt.xlabel('Epochs')\n",
    "plt.legend(['train', 'test'])\n",
    "plt.show()"
   ]
  },
  {
   "cell_type": "code",
   "execution_count": 59,
   "metadata": {},
   "outputs": [
    {
     "data": {
      "image/png": "[encoded data removed]",
      "text/plain": [
       "<Figure size 432x288 with 1 Axes>"
      ]
     },
     "metadata": {
      "needs_background": "light"
     },
     "output_type": "display_data"
    }
   ],
   "source": [
    "plt.plot(History.history['mean_absolute_error'])\n",
    "plt.plot(History.history['val_mean_absolute_error'])\n",
    "plt.title('Model Accuracy')\n",
    "plt.ylabel('Mean_absolute_error')\n",
    "plt.xlabel('Epochs')\n",
    "plt.legend(['train', 'test'])\n",
    "plt.show()"
   ]
  },
  {
   "cell_type": "code",
   "execution_count": 60,
   "metadata": {},
   "outputs": [],
   "source": [
    "#Putting data into bins for a classification method on predicting Length of Stay\n",
    "bins = [-1,4,10,20,40]\n",
    "group_names = [\"Short_Stay\", \"Average_Stay\", \"Long_Stay\", \"Very_Long_Stay\"]\n",
    "y_binned = pd.cut(y, bins, labels = group_names)\n",
    "y_binned = le.fit_transform(y_binned)\n",
    "from keras.utils import to_categorical\n",
    "y_binned = to_categorical(y_binned, 4)"
   ]
  },
  {
   "cell_type": "code",
   "execution_count": 61,
   "metadata": {},
   "outputs": [],
   "source": [
    "#Splliting the data into train and test\n",
    "from sklearn.model_selection import train_test_split\n",
    "X_train_binned, X_test_binned, y_train_binned, y_test_binned = train_test_split(X,y_binned,random_state = 12)"
   ]
  },
  {
   "cell_type": "code",
   "execution_count": 62,
   "metadata": {},
   "outputs": [
    {
     "data": {
      "text/plain": [
       "1.0"
      ]
     },
     "execution_count": 62,
     "metadata": {},
     "output_type": "execute_result"
    }
   ],
   "source": [
    "from sklearn.ensemble import RandomForestClassifier\n",
    "rc = RandomForestClassifier()\n",
    "rc.fit(X_train_binned, y_train_binned)\n",
    "rc.score(X_train_binned,y_train_binned)"
   ]
  },
  {
   "cell_type": "code",
   "execution_count": 63,
   "metadata": {},
   "outputs": [
    {
     "name": "stdout",
     "output_type": "stream",
     "text": [
      "Model: \"sequential_2\"\n",
      "_________________________________________________________________\n",
      "Layer (type)                 Output Shape              Param #   \n",
      "=================================================================\n",
      "dense_8 (Dense)              (None, 32)                448       \n",
      "_________________________________________________________________\n",
      "dense_9 (Dense)              (None, 256)               8448      \n",
      "_________________________________________________________________\n",
      "dense_10 (Dense)             (None, 128)               32896     \n",
      "_________________________________________________________________\n",
      "dense_11 (Dense)             (None, 64)                8256      \n",
      "_________________________________________________________________\n",
      "dense_12 (Dense)             (None, 4)                 260       \n",
      "=================================================================\n",
      "Total params: 50,308\n",
      "Trainable params: 50,308\n",
      "Non-trainable params: 0\n",
      "_________________________________________________________________\n"
     ]
    }
   ],
   "source": [
    "NN_model_classification = Sequential()\n",
    "\n",
    "# The Input Layer :\n",
    "NN_model_classification.add(Dense(32, kernel_initializer='normal',input_dim = X_train_binned.shape[1], activation='sigmoid'))\n",
    "\n",
    "#Hidden layer\n",
    "NN_model_classification.add(Dense(256, kernel_initializer= 'normal', activation= 'sigmoid'))\n",
    "NN_model_classification.add(Dense(128, kernel_initializer= 'normal', activation= 'sigmoid'))\n",
    "NN_model_classification.add(Dense(64, kernel_initializer= 'normal', activation= 'sigmoid'))\n",
    "\n",
    "# The Output Layer :\n",
    "NN_model_classification.add(Dense(4, kernel_initializer='normal'))\n",
    "\n",
    "# Compile the network :\n",
    "NN_model_classification.compile(loss='categorical_crossentropy', optimizer='adam', metrics=['accuracy'])\n",
    "NN_model_classification.summary()"
   ]
  },
  {
   "cell_type": "code",
   "execution_count": 64,
   "metadata": {},
   "outputs": [
    {
     "name": "stdout",
     "output_type": "stream",
     "text": [
      "WARNING:tensorflow:From C:\\Users\\soham\\Anaconda3\\envs\\tn1\\lib\\site-packages\\tensorflow\\python\\ops\\math_grad.py:1250: add_dispatch_support.<locals>.wrapper (from tensorflow.python.ops.array_ops) is deprecated and will be removed in a future version.\n",
      "Instructions for updating:\n",
      "Use tf.where in 2.0, which has the same broadcast rule as np.where\n",
      "Train on 1456781 samples, validate on 485594 samples\n",
      "Epoch 1/10\n",
      "1456781/1456781 [==============================] - 3s 2us/step - loss: 5.7757 - accuracy: 0.3178 - val_loss: 5.7478 - val_accuracy: 0.3187\n",
      "Epoch 2/10\n",
      "1456781/1456781 [==============================] - 3s 2us/step - loss: 5.7377 - accuracy: 0.3178 - val_loss: 5.7478 - val_accuracy: 0.3187\n",
      "Epoch 3/10\n",
      "1456781/1456781 [==============================] - 3s 2us/step - loss: 5.7377 - accuracy: 0.3178 - val_loss: 5.7478 - val_accuracy: 0.3187\n",
      "Epoch 4/10\n",
      "1456781/1456781 [==============================] - 3s 2us/step - loss: 5.7377 - accuracy: 0.3178 - val_loss: 5.7478 - val_accuracy: 0.3187\n",
      "Epoch 5/10\n",
      "1456781/1456781 [==============================] - 3s 2us/step - loss: 5.7377 - accuracy: 0.3178 - val_loss: 5.7478 - val_accuracy: 0.3187\n",
      "Epoch 6/10\n",
      "1456781/1456781 [==============================] - 3s 2us/step - loss: 5.7377 - accuracy: 0.3178 - val_loss: 5.7478 - val_accuracy: 0.3187\n",
      "Epoch 7/10\n",
      "1456781/1456781 [==============================] - 3s 2us/step - loss: 5.7377 - accuracy: 0.3178 - val_loss: 5.7478 - val_accuracy: 0.3187\n",
      "Epoch 8/10\n",
      "1456781/1456781 [==============================] - 3s 2us/step - loss: 5.7377 - accuracy: 0.3178 - val_loss: 5.7478 - val_accuracy: 0.3187\n",
      "Epoch 9/10\n",
      "1456781/1456781 [==============================] - 3s 2us/step - loss: 5.7377 - accuracy: 0.3178 - val_loss: 5.7478 - val_accuracy: 0.3187\n",
      "Epoch 10/10\n",
      "1456781/1456781 [==============================] - 3s 2us/step - loss: 5.7377 - accuracy: 0.3178 - val_loss: 5.7478 - val_accuracy: 0.3187\n"
     ]
    }
   ],
   "source": [
    "History =  NN_model_classification.fit(X_train_binned, y_train_binned, epochs=10, batch_size=3000 , validation_data = (X_test_binned,y_test_binned), verbose=1)"
   ]
  },
  {
   "cell_type": "code",
   "execution_count": null,
   "metadata": {},
   "outputs": [],
   "source": []
  }
 ],
 "metadata": {
  "kernelspec": {
   "display_name": "Python 3",
   "language": "python",
   "name": "python3"
  },
  "language_info": {
   "codemirror_mode": {
    "name": "ipython",
    "version": 3
   },
   "file_extension": ".py",
   "mimetype": "text/x-python",
   "name": "python",
   "nbconvert_exporter": "python",
   "pygments_lexer": "ipython3",
   "version": "3.7.4"
  }
 },
 "nbformat": 4,
 "nbformat_minor": 4
}
